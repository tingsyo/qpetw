{
 "cells": [
  {
   "cell_type": "markdown",
   "metadata": {},
   "source": [
    "# Plotting Basic Results as Scatterplot\n",
    "\n",
    "We will first show the RMSE and correlation-coefficients of different methods."
   ]
  },
  {
   "cell_type": "code",
   "execution_count": 1,
   "metadata": {},
   "outputs": [
    {
     "data": {
      "text/html": [
       "<div>\n",
       "<style scoped>\n",
       "    .dataframe tbody tr th:only-of-type {\n",
       "        vertical-align: middle;\n",
       "    }\n",
       "\n",
       "    .dataframe tbody tr th {\n",
       "        vertical-align: top;\n",
       "    }\n",
       "\n",
       "    .dataframe thead th {\n",
       "        text-align: right;\n",
       "    }\n",
       "</style>\n",
       "<table border=\"1\" class=\"dataframe\">\n",
       "  <thead>\n",
       "    <tr style=\"text-align: right;\">\n",
       "      <th></th>\n",
       "      <th>id</th>\n",
       "      <th>name</th>\n",
       "      <th>elevation</th>\n",
       "      <th>lon</th>\n",
       "      <th>lat</th>\n",
       "      <th>city</th>\n",
       "      <th>address</th>\n",
       "      <th>start_date</th>\n",
       "      <th>end_date</th>\n",
       "    </tr>\n",
       "  </thead>\n",
       "  <tbody>\n",
       "    <tr>\n",
       "      <th>0</th>\n",
       "      <td>466850</td>\n",
       "      <td>五分山雷達站</td>\n",
       "      <td>756.0</td>\n",
       "      <td>121.7812</td>\n",
       "      <td>25.0712</td>\n",
       "      <td>新北市</td>\n",
       "      <td>瑞芳區靜安路四段1巷1號</td>\n",
       "      <td>1988/07/01</td>\n",
       "      <td>NaN</td>\n",
       "    </tr>\n",
       "    <tr>\n",
       "      <th>1</th>\n",
       "      <td>466880</td>\n",
       "      <td>板橋</td>\n",
       "      <td>9.7</td>\n",
       "      <td>121.4420</td>\n",
       "      <td>24.9976</td>\n",
       "      <td>新北市</td>\n",
       "      <td>板橋區大觀路二段265巷62號</td>\n",
       "      <td>1972/03/01</td>\n",
       "      <td>NaN</td>\n",
       "    </tr>\n",
       "    <tr>\n",
       "      <th>2</th>\n",
       "      <td>466900</td>\n",
       "      <td>淡水</td>\n",
       "      <td>19.0</td>\n",
       "      <td>121.4489</td>\n",
       "      <td>25.1649</td>\n",
       "      <td>新北市</td>\n",
       "      <td>淡水區中正東路42巷6號</td>\n",
       "      <td>1942/01/01</td>\n",
       "      <td>NaN</td>\n",
       "    </tr>\n",
       "    <tr>\n",
       "      <th>3</th>\n",
       "      <td>466910</td>\n",
       "      <td>鞍部</td>\n",
       "      <td>825.8</td>\n",
       "      <td>121.5297</td>\n",
       "      <td>25.1826</td>\n",
       "      <td>臺北市</td>\n",
       "      <td>北投區陽明山竹子湖路111號</td>\n",
       "      <td>1937/01/01</td>\n",
       "      <td>NaN</td>\n",
       "    </tr>\n",
       "    <tr>\n",
       "      <th>4</th>\n",
       "      <td>466920</td>\n",
       "      <td>臺北</td>\n",
       "      <td>6.3</td>\n",
       "      <td>121.5149</td>\n",
       "      <td>25.0377</td>\n",
       "      <td>臺北市</td>\n",
       "      <td>中正區公園路64號</td>\n",
       "      <td>1896/01/01</td>\n",
       "      <td>NaN</td>\n",
       "    </tr>\n",
       "  </tbody>\n",
       "</table>\n",
       "</div>"
      ],
      "text/plain": [
       "       id    name  elevation       lon      lat city          address  \\\n",
       "0  466850  五分山雷達站      756.0  121.7812  25.0712  新北市     瑞芳區靜安路四段1巷1號   \n",
       "1  466880      板橋        9.7  121.4420  24.9976  新北市  板橋區大觀路二段265巷62號   \n",
       "2  466900      淡水       19.0  121.4489  25.1649  新北市     淡水區中正東路42巷6號   \n",
       "3  466910      鞍部      825.8  121.5297  25.1826  臺北市   北投區陽明山竹子湖路111號   \n",
       "4  466920      臺北        6.3  121.5149  25.0377  臺北市        中正區公園路64號   \n",
       "\n",
       "   start_date end_date  \n",
       "0  1988/07/01      NaN  \n",
       "1  1972/03/01      NaN  \n",
       "2  1942/01/01      NaN  \n",
       "3  1937/01/01      NaN  \n",
       "4  1896/01/01      NaN  "
      ]
     },
     "execution_count": 1,
     "metadata": {},
     "output_type": "execute_result"
    }
   ],
   "source": [
    "import pandas as pd\n",
    "import numpy as np\n",
    "\n",
    "# CWB station info\n",
    "stdinfo = pd.read_csv('../examples/data/CWB_station_list_cleaned_20191204.csv')\n",
    "stdinfo.head()"
   ]
  },
  {
   "cell_type": "code",
   "execution_count": 3,
   "metadata": {},
   "outputs": [
    {
     "name": "stdout",
     "output_type": "stream",
     "text": [
      "         elevation         lon        lat   rmse_cwb   corr_cwb    rmse_lm  \\\n",
      "count    45.000000   45.000000  45.000000  45.000000  45.000000  45.000000   \n",
      "mean    170.568889  121.589260  25.053096   1.900078   0.577864   1.860891   \n",
      "std     240.090615    0.155795   0.102089   0.433102   0.150301   0.423161   \n",
      "min       6.000000  121.346300  24.776200   1.292644   0.237025   1.195070   \n",
      "25%      26.700000  121.490400  24.993900   1.600036   0.481709   1.563278   \n",
      "50%      55.000000  121.546300  25.055400   1.779267   0.582445   1.753280   \n",
      "75%     241.000000  121.658800  25.117500   2.087012   0.713447   2.158389   \n",
      "max    1079.000000  122.002100  25.263800   2.989705   0.812785   2.702821   \n",
      "\n",
      "         corr_lm  \n",
      "count  45.000000  \n",
      "mean    0.425661  \n",
      "std     0.070664  \n",
      "min     0.308230  \n",
      "25%     0.360420  \n",
      "50%     0.420456  \n",
      "75%     0.491124  \n",
      "max     0.555455  \n"
     ]
    }
   ],
   "source": [
    "# CWB station info\n",
    "stdinfo = pd.read_csv('../examples/data/CWB_station_list_cleaned_20191204.csv')\n",
    "stdinfo.head()\n",
    "# CWB QPE\n",
    "evcwb = pd.read_csv('cwb_qpe_eval_2016_wo_negatives.csv')\n",
    "# Our QPE\n",
    "evlm = pd.read_csv('enclr_th-1_test.csv')\n",
    "# Prepare data for visualization\n",
    "cwb = pd.merge(stdinfo.loc[:,['id','elevation','lon','lat']], evcwb.loc[:,['id','rmse','corr']], on='id')\n",
    "complm = cwb.merge(evlm.loc[:,['id','rmse','corr']], on='id', suffixes=('_cwb', '_lm'))\n",
    "#print(comp.head())\n",
    "print(complm.describe())"
   ]
  },
  {
   "cell_type": "markdown",
   "metadata": {},
   "source": [
    "## Compare to NN+LM"
   ]
  },
  {
   "cell_type": "code",
   "execution_count": 11,
   "metadata": {},
   "outputs": [
    {
     "data": {
      "image/png": "[encoded data removed]",
      "text/plain": [
       "<Figure size 576x576 with 1 Axes>"
      ]
     },
     "metadata": {
      "needs_background": "light"
     },
     "output_type": "display_data"
    }
   ],
   "source": [
    "# Plot\n",
    "%matplotlib inline\n",
    "import matplotlib.pyplot as plt\n",
    "\n",
    "complm_el = complm.sort_values('elevation').reset_index(drop=True)\n",
    "\n",
    "plt.figure(figsize=(8,8))\n",
    "plt.title('Root Mean Squared Error')\n",
    "plt.ylabel('RMSE (mm/hr)')\n",
    "plt.xlabel('Station Elevation (m)')\n",
    "plt.scatter(cwb['elevation'], cwb['rmse'], color='orange', alpha=0.8, label='CWB')\n",
    "plt.scatter(complm['elevation'], complm['rmse_lm'], color='blue', alpha=0.8, label='VTP')\n",
    "plt.legend()\n",
    "plt.show()"
   ]
  },
  {
   "cell_type": "markdown",
   "metadata": {},
   "source": [
    "## Binary Classification\n",
    "\n",
    "30mm/hr as threshold (99.9%)."
   ]
  },
  {
   "cell_type": "code",
   "execution_count": 12,
   "metadata": {},
   "outputs": [
    {
     "name": "stdout",
     "output_type": "stream",
     "text": [
      "count    45.000000\n",
      "mean      0.000919\n",
      "std       0.000554\n",
      "min       0.000242\n",
      "25%       0.000487\n",
      "50%       0.000790\n",
      "75%       0.001254\n",
      "max       0.002070\n",
      "Name: prevalence, dtype: float64\n",
      "         elevation         lon        lat  sensitivity_cwb    fpr_cwb  \\\n",
      "count    45.000000   45.000000  45.000000        45.000000  45.000000   \n",
      "mean    170.568889  121.589260  25.053096         0.362667   0.000509   \n",
      "std     240.090615    0.155795   0.102089         0.328332   0.000350   \n",
      "min       6.000000  121.346300  24.776200         0.000000   0.000000   \n",
      "25%      26.700000  121.490400  24.993900         0.060000   0.000300   \n",
      "50%      55.000000  121.546300  25.055400         0.220000   0.000400   \n",
      "75%     241.000000  121.658800  25.117500         0.670000   0.000800   \n",
      "max    1079.000000  122.002100  25.263800         1.000000   0.001500   \n",
      "\n",
      "          F1_cwb  sensitivity_glm    fpr_glm     F1_glm  \n",
      "count  45.000000        45.000000  45.000000  45.000000  \n",
      "mean    0.284104         0.800000   0.013491   0.100047  \n",
      "std     0.216214         0.243786   0.002287   0.063281  \n",
      "min     0.000000         0.200000   0.005900   0.015200  \n",
      "25%     0.095200         0.670000   0.012300   0.049600  \n",
      "50%     0.266700         0.900000   0.014100   0.087600  \n",
      "75%     0.454500         1.000000   0.015000   0.131400  \n",
      "max     0.714300         1.000000   0.016900   0.228600  \n"
     ]
    }
   ],
   "source": [
    "# CWB QPE\n",
    "evcwbbc = pd.read_csv('cwb_qpe_eval_2016_binary_classification.csv')\n",
    "print(evcwbbc['prevalence'].describe())\n",
    "# Our QPE\n",
    "evbcglm = pd.read_csv('enc_bc_glm_test.csv')\n",
    "# Prepare data for visualization\n",
    "cwbbc = pd.merge(stdinfo.loc[:,['id','elevation','lon','lat']], evcwbbc.loc[:,['id','sensitivity','fpr','F1']], on='id')\n",
    "compbcglm = cwbbc.merge(evbcglm.loc[:,['id','sensitivity','fpr','F1']], on='id', suffixes=('_cwb', '_glm'))\n",
    "#print(comp.head())\n",
    "print(compbcglm.describe())"
   ]
  },
  {
   "cell_type": "code",
   "execution_count": 13,
   "metadata": {},
   "outputs": [
    {
     "data": {
      "image/png": "[encoded data removed]",
      "text/plain": [
       "<Figure size 576x576 with 1 Axes>"
      ]
     },
     "metadata": {
      "needs_background": "light"
     },
     "output_type": "display_data"
    }
   ],
   "source": [
    "plt.figure(figsize=(8,8))\n",
    "plt.title('Root Mean Squared Error')\n",
    "plt.ylabel('Hit-Rate')\n",
    "plt.xlabel('Station Elevation (m)')\n",
    "plt.scatter(compbcglm['elevation'], compbcglm['sensitivity_cwb'], color='orange', alpha=0.8, label='CWB')\n",
    "plt.scatter(compbcglm['elevation'], compbcglm['sensitivity_glm'], color='blue', alpha=0.8, label='VTP')\n",
    "plt.legend()\n",
    "plt.show()"
   ]
  },
  {
   "cell_type": "code",
   "execution_count": null,
   "metadata": {},
   "outputs": [],
   "source": []
  }
 ],
 "metadata": {
  "kernelspec": {
   "display_name": "Python 3",
   "language": "python",
   "name": "python3"
  },
  "language_info": {
   "codemirror_mode": {
    "name": "ipython",
    "version": 3
   },
   "file_extension": ".py",
   "mimetype": "text/x-python",
   "name": "python",
   "nbconvert_exporter": "python",
   "pygments_lexer": "ipython3",
   "version": "3.7.9"
  }
 },
 "nbformat": 4,
 "nbformat_minor": 2
}
