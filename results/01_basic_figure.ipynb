{
 "cells": [
  {
   "cell_type": "markdown",
   "metadata": {},
   "source": [
    "# Plotting Basic Results\n",
    "\n",
    "We will first show the RMSE and correlation-coefficients of different methods."
   ]
  },
  {
   "cell_type": "code",
   "execution_count": 1,
   "metadata": {},
   "outputs": [
    {
     "data": {
      "text/html": [
       "<div>\n",
       "<style scoped>\n",
       "    .dataframe tbody tr th:only-of-type {\n",
       "        vertical-align: middle;\n",
       "    }\n",
       "\n",
       "    .dataframe tbody tr th {\n",
       "        vertical-align: top;\n",
       "    }\n",
       "\n",
       "    .dataframe thead th {\n",
       "        text-align: right;\n",
       "    }\n",
       "</style>\n",
       "<table border=\"1\" class=\"dataframe\">\n",
       "  <thead>\n",
       "    <tr style=\"text-align: right;\">\n",
       "      <th></th>\n",
       "      <th>id</th>\n",
       "      <th>name</th>\n",
       "      <th>elevation</th>\n",
       "      <th>lon</th>\n",
       "      <th>lat</th>\n",
       "      <th>city</th>\n",
       "      <th>address</th>\n",
       "      <th>start_date</th>\n",
       "      <th>end_date</th>\n",
       "    </tr>\n",
       "  </thead>\n",
       "  <tbody>\n",
       "    <tr>\n",
       "      <th>0</th>\n",
       "      <td>466850</td>\n",
       "      <td>五分山雷達站</td>\n",
       "      <td>756.0</td>\n",
       "      <td>121.7812</td>\n",
       "      <td>25.0712</td>\n",
       "      <td>新北市</td>\n",
       "      <td>瑞芳區靜安路四段1巷1號</td>\n",
       "      <td>1988/07/01</td>\n",
       "      <td>NaN</td>\n",
       "    </tr>\n",
       "    <tr>\n",
       "      <th>1</th>\n",
       "      <td>466880</td>\n",
       "      <td>板橋</td>\n",
       "      <td>9.7</td>\n",
       "      <td>121.4420</td>\n",
       "      <td>24.9976</td>\n",
       "      <td>新北市</td>\n",
       "      <td>板橋區大觀路二段265巷62號</td>\n",
       "      <td>1972/03/01</td>\n",
       "      <td>NaN</td>\n",
       "    </tr>\n",
       "    <tr>\n",
       "      <th>2</th>\n",
       "      <td>466900</td>\n",
       "      <td>淡水</td>\n",
       "      <td>19.0</td>\n",
       "      <td>121.4489</td>\n",
       "      <td>25.1649</td>\n",
       "      <td>新北市</td>\n",
       "      <td>淡水區中正東路42巷6號</td>\n",
       "      <td>1942/01/01</td>\n",
       "      <td>NaN</td>\n",
       "    </tr>\n",
       "    <tr>\n",
       "      <th>3</th>\n",
       "      <td>466910</td>\n",
       "      <td>鞍部</td>\n",
       "      <td>825.8</td>\n",
       "      <td>121.5297</td>\n",
       "      <td>25.1826</td>\n",
       "      <td>臺北市</td>\n",
       "      <td>北投區陽明山竹子湖路111號</td>\n",
       "      <td>1937/01/01</td>\n",
       "      <td>NaN</td>\n",
       "    </tr>\n",
       "    <tr>\n",
       "      <th>4</th>\n",
       "      <td>466920</td>\n",
       "      <td>臺北</td>\n",
       "      <td>6.3</td>\n",
       "      <td>121.5149</td>\n",
       "      <td>25.0377</td>\n",
       "      <td>臺北市</td>\n",
       "      <td>中正區公園路64號</td>\n",
       "      <td>1896/01/01</td>\n",
       "      <td>NaN</td>\n",
       "    </tr>\n",
       "  </tbody>\n",
       "</table>\n",
       "</div>"
      ],
      "text/plain": [
       "       id    name  elevation       lon      lat city          address  \\\n",
       "0  466850  五分山雷達站      756.0  121.7812  25.0712  新北市     瑞芳區靜安路四段1巷1號   \n",
       "1  466880      板橋        9.7  121.4420  24.9976  新北市  板橋區大觀路二段265巷62號   \n",
       "2  466900      淡水       19.0  121.4489  25.1649  新北市     淡水區中正東路42巷6號   \n",
       "3  466910      鞍部      825.8  121.5297  25.1826  臺北市   北投區陽明山竹子湖路111號   \n",
       "4  466920      臺北        6.3  121.5149  25.0377  臺北市        中正區公園路64號   \n",
       "\n",
       "   start_date end_date  \n",
       "0  1988/07/01      NaN  \n",
       "1  1972/03/01      NaN  \n",
       "2  1942/01/01      NaN  \n",
       "3  1937/01/01      NaN  \n",
       "4  1896/01/01      NaN  "
      ]
     },
     "execution_count": 1,
     "metadata": {},
     "output_type": "execute_result"
    }
   ],
   "source": [
    "import pandas as pd\n",
    "import numpy as np\n",
    "\n",
    "# CWB station info\n",
    "stdinfo = pd.read_csv('../examples/data/CWB_station_list_cleaned_20191204.csv')\n",
    "stdinfo.head()"
   ]
  },
  {
   "cell_type": "code",
   "execution_count": 5,
   "metadata": {},
   "outputs": [
    {
     "name": "stdout",
     "output_type": "stream",
     "text": [
      "       id  y_true_mean  y_true_var  y_pred_mean  y_pred_var      rmse  \\\n",
      "0  466880     0.361950    4.647973     0.446484    7.864563  1.773295   \n",
      "1  466910     0.587232    4.442127     0.337834    3.207659  1.826769   \n",
      "2  466920     0.307130    2.673787     0.384754    6.267502  1.970767   \n",
      "3  466930     0.514291    4.228280     0.383654    3.853853  1.940486   \n",
      "4  466940     0.471768    3.936171     0.139258    0.699974  1.739684   \n",
      "\n",
      "       corr  \n",
      "0  0.775279  \n",
      "1  0.579438  \n",
      "2  0.618383  \n",
      "3  0.536728  \n",
      "4  0.518058  \n",
      "       id  y_true_mean  y_true_var  y_pred_mean  y_pred_var      rmse  \\\n",
      "0  466880     0.742498    7.035036     0.795455    2.771246  2.216409   \n",
      "1  466910     0.820665    4.641497     0.923516    2.423912  1.724464   \n",
      "2  466920     0.665499    5.480805     0.733782    2.157733  2.149729   \n",
      "3  466930     0.796765    5.701284     0.891879    3.243342  1.910471   \n",
      "4  466940     0.765409    6.957750     0.774647    1.218314  2.339535   \n",
      "\n",
      "       corr  \n",
      "0  0.554025  \n",
      "1  0.611159  \n",
      "2  0.438845  \n",
      "3  0.616379  \n",
      "4  0.463284  \n"
     ]
    }
   ],
   "source": [
    "# CWB QPE\n",
    "evcwb = pd.read_csv('cwb_qpe_eval_2016_wo_negatives.csv')\n",
    "print(evcwb.head())\n",
    "# Our QPE\n",
    "evvtp = pd.read_csv('enclr_test.csv')\n",
    "print(evvtp.head())"
   ]
  },
  {
   "cell_type": "code",
   "execution_count": 6,
   "metadata": {},
   "outputs": [
    {
     "name": "stdout",
     "output_type": "stream",
     "text": [
      "       id      rmse      corr  elevation       lon      lat\n",
      "0  466880  1.773295  0.775279        9.7  121.4420  24.9976\n",
      "1  466910  1.826769  0.579438      825.8  121.5297  25.1826\n",
      "2  466920  1.970767  0.618383        6.3  121.5149  25.0377\n",
      "3  466930  1.940486  0.536728      607.1  121.5445  25.1621\n",
      "4  466940  1.739684  0.518058       26.7  121.7405  25.1333\n",
      "       id      rmse      corr  elevation       lon      lat\n",
      "0  466880  2.216409  0.554025        9.7  121.4420  24.9976\n",
      "1  466910  1.724464  0.611159      825.8  121.5297  25.1826\n",
      "2  466920  2.149729  0.438845        6.3  121.5149  25.0377\n",
      "3  466930  1.910471  0.616379      607.1  121.5445  25.1621\n",
      "4  466940  2.339535  0.463284       26.7  121.7405  25.1333\n"
     ]
    }
   ],
   "source": [
    "# Prepare data for visualization\n",
    "cwb = pd.merge(evcwb.loc[:,['id','rmse','corr']], stdinfo.loc[:,['id','elevation','lon','lat']], on='id')\n",
    "print(cwb.head())\n",
    "vtp = pd.merge(evvtp.loc[:,['id','rmse','corr']], stdinfo.loc[:,['id','elevation','lon','lat']], on='id')\n",
    "print(vtp.head())"
   ]
  },
  {
   "cell_type": "code",
   "execution_count": 31,
   "metadata": {},
   "outputs": [
    {
     "data": {
      "image/png": "[encoded data removed]",
      "text/plain": [
       "<Figure size 1440x720 with 1 Axes>"
      ]
     },
     "metadata": {
      "needs_background": "light"
     },
     "output_type": "display_data"
    },
    {
     "data": {
      "image/png": "[encoded data removed]",
      "text/plain": [
       "<Figure size 1440x720 with 1 Axes>"
      ]
     },
     "metadata": {
      "needs_background": "light"
     },
     "output_type": "display_data"
    }
   ],
   "source": [
    "# Plot\n",
    "%matplotlib inline\n",
    "import matplotlib.pyplot as plt\n",
    "\n",
    "cwb_el = cwb.sort_values('elevation').reset_index(drop=True)\n",
    "vtp_el = vtp.sort_values('elevation').reset_index(drop=True)\n",
    "\n",
    "x = np.arange(len(cwb_el['id']))  # the label locations\n",
    "width = 0.35  # the width of the bars\n",
    "\n",
    "plt.figure(figsize=(20,10))\n",
    "plt.subplot(2,1,1)\n",
    "plt.title('Root Mean Squared Error')\n",
    "plt.ylabel('RMSE')\n",
    "plt.xlabel('Station ID')\n",
    "plt.bar(x - width/2, cwb_el['rmse'], width, color='blue', label='CWB')\n",
    "plt.bar(x + width/2, vtp_el['rmse'], width, color='orange', label='VTP')\n",
    "plt.xticks(x, cwb_el['id'], fontsize=10, rotation='vertical')\n",
    "plt.legend()\n",
    "plt.show()\n",
    "\n",
    "plt.figure(figsize=(20,10))\n",
    "plt.subplot(2,1,2)\n",
    "plt.title('Correlation Coefficient')\n",
    "plt.ylabel('Correlation Coefficient')\n",
    "plt.xlabel('Station ID')\n",
    "plt.bar(x - width/2, cwb_el['corr'], width, color='blue', label='CWB')\n",
    "plt.bar(x + width/2, vtp_el['corr'], width, color='orange', label='VTP')\n",
    "plt.xticks(x, cwb_el['id'], fontsize=10, rotation='vertical')\n",
    "plt.legend()\n",
    "plt.show()"
   ]
  },
  {
   "cell_type": "code",
   "execution_count": null,
   "metadata": {},
   "outputs": [],
   "source": []
  }
 ],
 "metadata": {
  "kernelspec": {
   "display_name": "Python 3",
   "language": "python",
   "name": "python3"
  },
  "language_info": {
   "codemirror_mode": {
    "name": "ipython",
    "version": 3
   },
   "file_extension": ".py",
   "mimetype": "text/x-python",
   "name": "python",
   "nbconvert_exporter": "python",
   "pygments_lexer": "ipython3",
   "version": "3.7.4"
  }
 },
 "nbformat": 4,
 "nbformat_minor": 2
}
