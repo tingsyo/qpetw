{
 "cells": [
  {
   "cell_type": "markdown",
   "metadata": {},
   "source": [
    "# Evaluate with Special Cases\n",
    "\n",
    "- typhoon Malakas (2016/0918 ~ 2016-09-18)"
   ]
  },
  {
   "cell_type": "code",
   "execution_count": 16,
   "metadata": {},
   "outputs": [
    {
     "name": "stdout",
     "output_type": "stream",
     "text": [
      "(35064, 46)\n",
      "(2231, 46)\n",
      "             date  C0A580  C0A970  466940  C0A540  C0A550  C0A9A0  C0AC60  \\\n",
      "30768  2016070601     0.0     0.0     0.0     0.0     0.0     0.0     0.0   \n",
      "30769  2016070602     0.0     0.0     0.0     0.5     0.0     0.0     0.0   \n",
      "30770  2016070603     0.0     0.0     0.0     0.0     0.0     0.0     NaN   \n",
      "30771  2016070604     0.0     0.0     0.0     0.0     NaN     0.0     0.0   \n",
      "30772  2016070605     0.0     0.0     0.0     NaN     0.0     0.0     NaN   \n",
      "\n",
      "       C0A870  466920  ...  C0A9I1  C0AD50  C0A9B0  C0A560  C0A950  C0A940  \\\n",
      "30768     0.0     0.0  ...     0.0     0.0     0.0     0.0     0.0     0.0   \n",
      "30769     0.0     0.0  ...     0.0     0.0     0.0     0.0     0.0     0.0   \n",
      "30770     0.0     0.0  ...     0.0     0.0     0.0     0.0     0.0     0.0   \n",
      "30771     0.0     0.0  ...     0.0     0.0     0.0     0.0     0.0     NaN   \n",
      "30772     0.0     0.0  ...     0.0     0.0     0.0     0.0     NaN     NaN   \n",
      "\n",
      "       C0A570  C0A980  C0A9C0  C0AD40  \n",
      "30768     0.0     NaN     0.0     0.0  \n",
      "30769     0.0     0.0     0.0     0.0  \n",
      "30770     0.0     0.0     0.0     0.0  \n",
      "30771     0.0     0.0     0.0     0.0  \n",
      "30772     NaN     0.0     0.0     0.0  \n",
      "\n",
      "[5 rows x 46 columns]\n"
     ]
    }
   ],
   "source": [
    "# Load library\n",
    "%matplotlib inline\n",
    "import numpy as np\n",
    "import pandas as pd\n",
    "import matplotlib.pyplot as plt\n",
    "\n",
    "xpath = '../data/qpesums_encoded'\n",
    "ypath = '../examples/data/t1hr.csv'\n",
    "\n",
    "# Load Precipitations\n",
    "ys = pd.read_csv(ypath)\n",
    "print(ys.shape)\n",
    "\n",
    "# Pick date\n",
    "ty16idx = (ys.date>=2016070600)&(ys.date<=2016100623)\n",
    "ys_malakas = ys.loc[ty16idx,:]\n",
    "print(ys_malakas.shape)\n",
    "print(ys_malakas.head())"
   ]
  },
  {
   "cell_type": "code",
   "execution_count": 19,
   "metadata": {},
   "outputs": [
    {
     "data": {
      "image/png": "[encoded data removed]",
      "text/plain": [
       "<Figure size 432x288 with 1 Axes>"
      ]
     },
     "metadata": {
      "needs_background": "light"
     },
     "output_type": "display_data"
    }
   ],
   "source": [
    "ymax = ys_malakas.iloc[:,1:].max(axis=1)\n",
    "plt.plot(ymax, 'b-')\n",
    "#plt.xticks(np.arange(0, len(ymax),20), ys_malakas['date'].iloc[np.arange(0, len(ymax),20)])\n",
    "plt.show()"
   ]
  },
  {
   "cell_type": "code",
   "execution_count": null,
   "metadata": {},
   "outputs": [],
   "source": []
  }
 ],
 "metadata": {
  "kernelspec": {
   "display_name": "Python 3",
   "language": "python",
   "name": "python3"
  },
  "language_info": {
   "codemirror_mode": {
    "name": "ipython",
    "version": 3
   },
   "file_extension": ".py",
   "mimetype": "text/x-python",
   "name": "python",
   "nbconvert_exporter": "python",
   "pygments_lexer": "ipython3",
   "version": "3.7.6"
  }
 },
 "nbformat": 4,
 "nbformat_minor": 4
}
