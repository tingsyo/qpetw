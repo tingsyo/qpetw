{
 "cells": [
  {
   "cell_type": "markdown",
   "metadata": {},
   "source": [
    "# QPF Results\n",
    "\n",
    "First, read and plot the regression results."
   ]
  },
  {
   "cell_type": "code",
   "execution_count": 2,
   "metadata": {},
   "outputs": [
    {
     "name": "stdout",
     "output_type": "stream",
     "text": [
      "       id    name  elevation       lon      lat city          address  \\\n",
      "0  466850  五分山雷達站      756.0  121.7812  25.0712  新北市     瑞芳區靜安路四段1巷1號   \n",
      "1  466880      板橋        9.7  121.4420  24.9976  新北市  板橋區大觀路二段265巷62號   \n",
      "2  466900      淡水       19.0  121.4489  25.1649  新北市     淡水區中正東路42巷6號   \n",
      "3  466910      鞍部      825.8  121.5297  25.1826  臺北市   北投區陽明山竹子湖路111號   \n",
      "4  466920      臺北        6.3  121.5149  25.0377  臺北市        中正區公園路64號   \n",
      "\n",
      "   start_date end_date  \n",
      "0  1988/07/01      NaN  \n",
      "1  1972/03/01      NaN  \n",
      "2  1942/01/01      NaN  \n",
      "3  1937/01/01      NaN  \n",
      "4  1896/01/01      NaN  \n",
      "         elevation         lon        lat   rmse_0hr   rmse_1hr   rmse_2hr  \\\n",
      "count    45.000000   45.000000  45.000000  45.000000  45.000000  45.000000   \n",
      "mean    170.568889  121.589260  25.053096   1.860891   2.952576   3.488551   \n",
      "std     240.090615    0.155795   0.102089   0.423161   0.381971   0.443047   \n",
      "min       6.000000  121.346300  24.776200   1.195070   2.157943   2.553720   \n",
      "25%      26.700000  121.490400  24.993900   1.563278   2.655994   3.187590   \n",
      "50%      55.000000  121.546300  25.055400   1.753280   2.817216   3.511970   \n",
      "75%     241.000000  121.658800  25.117500   2.158389   3.170695   3.809824   \n",
      "max    1079.000000  122.002100  25.263800   2.702821   3.830897   4.458303   \n",
      "\n",
      "        rmse_3hr   rmse_4hr   rmse_5hr   rmse_6hr  rmse_12hr       rmse  \n",
      "count  45.000000  45.000000  45.000000  45.000000  45.000000  45.000000  \n",
      "mean    3.776910   3.959976   4.106074   4.067107   4.106924   4.029209  \n",
      "std     0.416896   0.542845   0.536504   0.495094   0.460214   0.430695  \n",
      "min     2.969609   2.841634   3.021384   3.116302   2.990979   3.080261  \n",
      "25%     3.551270   3.514579   3.748053   3.743747   3.805915   3.770859  \n",
      "50%     3.781344   3.908532   4.169579   4.021877   4.216044   3.988244  \n",
      "75%     4.069629   4.326545   4.463021   4.381861   4.300075   4.317596  \n",
      "max     4.521743   5.209451   5.189908   5.264238   5.340608   4.986225  \n",
      "         elevation         lon        lat   corr_0hr   corr_1hr   corr_2hr  \\\n",
      "count    45.000000   45.000000  45.000000  45.000000  45.000000  45.000000   \n",
      "mean    170.568889  121.589260  25.053096   0.425661   0.302153   0.194450   \n",
      "std     240.090615    0.155795   0.102089   0.070664   0.062966   0.071603   \n",
      "min       6.000000  121.346300  24.776200   0.308230   0.102964   0.077233   \n",
      "25%      26.700000  121.490400  24.993900   0.360420   0.257049   0.138540   \n",
      "50%      55.000000  121.546300  25.055400   0.420456   0.301687   0.173941   \n",
      "75%     241.000000  121.658800  25.117500   0.491124   0.340454   0.247340   \n",
      "max    1079.000000  122.002100  25.263800   0.555455   0.451732   0.380176   \n",
      "\n",
      "        corr_3hr   corr_4hr   corr_5hr   corr_6hr  corr_12hr       corr  \n",
      "count  45.000000  45.000000  45.000000  45.000000  45.000000  45.000000  \n",
      "mean    0.125978   0.075569   0.042238   0.038796   0.016629   0.040376  \n",
      "std     0.069092   0.075349   0.069629   0.077163   0.046592   0.032864  \n",
      "min    -0.025237  -0.076222  -0.086965  -0.081243  -0.036654  -0.050869  \n",
      "25%     0.076201   0.037846  -0.007034  -0.019783  -0.011341   0.019226  \n",
      "50%     0.115483   0.064159   0.027079   0.033481   0.007207   0.042460  \n",
      "75%     0.177961   0.110661   0.082722   0.098184   0.025235   0.055059  \n",
      "max     0.292814   0.297168   0.243474   0.293104   0.227853   0.146220  \n"
     ]
    }
   ],
   "source": [
    "%matplotlib inline\n",
    "import numpy as np\n",
    "import pandas as pd\n",
    "import matplotlib.pyplot as plt\n",
    "\n",
    "# Parameters\n",
    "stdids = ['466880', '466910', '466920', '466930', '466940', \n",
    "          'C0A520', 'C0A530', 'C0A540', 'C0A550', 'C0A560', \n",
    "          'C0A570', 'C0A580', 'C0A640', 'C0A650', 'C0A660', \n",
    "          'C0A710', 'C0A860', 'C0A870', 'C0A880', 'C0A890', \n",
    "          'C0A920', 'C0A940', 'C0A950', 'C0A970', 'C0A980', \n",
    "          'C0A9A0', 'C0A9B0', 'C0A9C0', 'C0A9E0', 'C0A9F0', \n",
    "          'C0A9G0', 'C0A9I1', 'C0AC40', 'C0AC60', 'C0AC70', \n",
    "          'C0AC80', 'C0ACA0', 'C0AD00', 'C0AD10', 'C0AD20', \n",
    "          'C0AD30', 'C0AD40', 'C0AD50', 'C0AG90', 'C0AH00']\n",
    "\n",
    "xpath = '../data/qpesums_encoded'\n",
    "ypath = '../examples/data/t1hr.csv'\n",
    "\n",
    "# CWB station info\n",
    "stdinfo = pd.read_csv('../examples/data/CWB_station_list_cleaned_20191204.csv')\n",
    "print(stdinfo.head())\n",
    "\n",
    "# Our QPE\n",
    "qpe = pd.read_csv('../results/enclr_th-1_test.csv')\n",
    "\n",
    "# Our QPF\n",
    "qpf1 = pd.read_csv('enclr_th10_qpf1hr.csv_test.csv')\n",
    "qpf2 = pd.read_csv('enclr_th10_qpf2hr.csv_test.csv')\n",
    "qpf3 = pd.read_csv('enclr_th10_qpf3hr.csv_test.csv')\n",
    "qpf4 = pd.read_csv('enclr_th10_qpf4hr.csv_test.csv')\n",
    "qpf5 = pd.read_csv('enclr_th10_qpf5hr.csv_test.csv')\n",
    "qpf6 = pd.read_csv('enclr_th10_qpf6hr.csv_test.csv')\n",
    "qpf12 = pd.read_csv('enclr_th10_qpf12hr.csv_test.csv')\n",
    "qpf24 = pd.read_csv('enclr_th10_qpf24hr.csv_test.csv')\n",
    "\n",
    "# Prepare data for visualization\n",
    "qpf_rmse = pd.merge(stdinfo.loc[:,['id','elevation','lon','lat']], qpe.loc[:,['id','rmse']], on='id')\n",
    "qpf_corr = pd.merge(stdinfo.loc[:,['id','elevation','lon','lat']], qpe.loc[:,['id','corr']], on='id')\n",
    "qpf_rmse = qpf_rmse.merge(qpf1.loc[:,['id','rmse']], on='id', suffixes=('_0hr', '_1hr'))\n",
    "qpf_corr = qpf_corr.merge(qpf1.loc[:,['id','corr']], on='id', suffixes=('_0hr', '_1hr'))\n",
    "qpf_rmse = qpf_rmse.merge(qpf2.loc[:,['id','rmse']], on='id', suffixes=('_1hr', '_2hr'))\n",
    "qpf_corr = qpf_corr.merge(qpf2.loc[:,['id','corr']], on='id', suffixes=('_1hr', '_2hr'))\n",
    "qpf_rmse = qpf_rmse.merge(qpf3.loc[:,['id','rmse']], on='id', suffixes=('_2hr', '_3hr'))\n",
    "qpf_corr = qpf_corr.merge(qpf3.loc[:,['id','corr']], on='id', suffixes=('_2hr', '_3hr'))\n",
    "qpf_rmse = qpf_rmse.merge(qpf4.loc[:,['id','rmse']], on='id', suffixes=('_3hr', '_4hr'))\n",
    "qpf_corr = qpf_corr.merge(qpf4.loc[:,['id','corr']], on='id', suffixes=('_3hr', '_4hr'))\n",
    "qpf_rmse = qpf_rmse.merge(qpf5.loc[:,['id','rmse']], on='id', suffixes=('_4hr', '_5hr'))\n",
    "qpf_corr = qpf_corr.merge(qpf5.loc[:,['id','corr']], on='id', suffixes=('_4hr', '_5hr'))\n",
    "qpf_rmse = qpf_rmse.merge(qpf6.loc[:,['id','rmse']], on='id', suffixes=('_5hr', '_6hr'))\n",
    "qpf_corr = qpf_corr.merge(qpf6.loc[:,['id','corr']], on='id', suffixes=('_5hr', '_6hr'))\n",
    "qpf_rmse = qpf_rmse.merge(qpf12.loc[:,['id','rmse']], on='id', suffixes=('_6hr', '_12hr'))\n",
    "qpf_corr = qpf_corr.merge(qpf12.loc[:,['id','corr']], on='id', suffixes=('_6hr', '_12hr'))\n",
    "qpf_rmse = qpf_rmse.merge(qpf24.loc[:,['id','rmse']], on='id', suffixes=('_12hr', '_24hr'))\n",
    "qpf_corr = qpf_corr.merge(qpf24.loc[:,['id','corr']], on='id', suffixes=('_12hr', '_24hr'))\n",
    "#\n",
    "print(qpf_rmse.describe())\n",
    "print(qpf_corr.describe())"
   ]
  },
  {
   "cell_type": "code",
   "execution_count": 4,
   "metadata": {},
   "outputs": [
    {
     "data": {
      "image/png": "[encoded data removed]",
      "text/plain": [
       "<Figure size 1152x288 with 1 Axes>"
      ]
     },
     "metadata": {
      "needs_background": "light"
     },
     "output_type": "display_data"
    }
   ],
   "source": [
    "from matplotlib import cm\n",
    "\n",
    "comprmse = qpf_rmse.sort_values('elevation').reset_index(drop=True)\n",
    "compcorr = qpf_corr.sort_values('elevation').reset_index(drop=True)\n",
    "\n",
    "comprmse = comprmse.loc[comprmse['id'].isin(['466880', '466910', '466920', '466930', '466940']),:]\n",
    "\n",
    "x = np.arange(len(comprmse['id']))  # the label locations\n",
    "width = 0.8  # the width of the bars\n",
    "#cs =  ['blue', 'orange', 'green', 'red', 'purple', 'brown','pink','grey']\n",
    "cs =  [(0.1,0.1,0.1),(0.2,0.2,0.2),(0.3,0.3,0.3),(0.4,0.4,0.4),(0.5,0.5,0.5),(0.6,0.6,0.6),(0.7,0.7,0.7)]\n",
    "\n",
    "plt.figure(figsize=(16,4))\n",
    "plt.title('Root Mean Squared Error')\n",
    "plt.ylabel('RMSE (mm/hr)')\n",
    "plt.xlabel('Station ID')\n",
    "plt.bar(x - width*4/6, comprmse['rmse_0hr'], width/6, color=cs[0], label='QPE')\n",
    "plt.bar(x - width*3/6, comprmse['rmse_1hr'], width/6, color=cs[1], label='1hr')\n",
    "plt.bar(x - width*2/6, comprmse['rmse_2hr'], width/6, color=cs[2], label='2hr')\n",
    "plt.bar(x - width*1/6, comprmse['rmse_3hr'], width/6, color=cs[3], label='3hr')\n",
    "plt.bar(x + width*0/6, comprmse['rmse_4hr'], width/6, color=cs[4], label='4hr')\n",
    "plt.bar(x + width*1/6, comprmse['rmse_5hr'], width/6, color=cs[5], label='5hr')\n",
    "plt.bar(x + width*2/6, comprmse['rmse_6hr'], width/6, color=cs[6], label='6hr')\n",
    "#plt.bar(x + width*2/8, comprmse['rmse_12hr'], width/8, color=cs[6], label='12hr')\n",
    "#plt.bar(x + width*3/8, comprmse['rmse_24hr'], width/8, color=cs[7], label='24hr')\n",
    "plt.xticks(x, comprmse['id'], fontsize=10)\n",
    "plt.legend(bbox_to_anchor=(1.1, 0.9))\n",
    "plt.show()\n"
   ]
  },
  {
   "cell_type": "code",
   "execution_count": 6,
   "metadata": {},
   "outputs": [
    {
     "data": {
      "image/png": "[encoded data removed]",
      "text/plain": [
       "<Figure size 1152x288 with 1 Axes>"
      ]
     },
     "metadata": {
      "needs_background": "light"
     },
     "output_type": "display_data"
    }
   ],
   "source": [
    "compcorr = compcorr.loc[compcorr['id'].isin(['466880', '466910', '466920', '466930', '466940']),:]\n",
    "\n",
    "x = np.arange(len(comprmse['id']))  # the label locations\n",
    "width = 0.8  # the width of the bars\n",
    "cs =  [(0.1,0.1,0.1),(0.2,0.2,0.2),(0.3,0.3,0.3),(0.4,0.4,0.4),(0.5,0.5,0.5),(0.6,0.6,0.6),(0.7,0.7,0.7)]\n",
    "\n",
    "plt.figure(figsize=(16,4))\n",
    "plt.title('Correlation Coefficient')\n",
    "plt.ylabel('Correlation Coefficient')\n",
    "plt.xlabel('Station ID')\n",
    "plt.bar(x - width*4/6, compcorr['corr_0hr'], width/6, color=cs[0], label='QPE')\n",
    "plt.bar(x - width*3/6, compcorr['corr_1hr'], width/6, color=cs[1], label='1hr')\n",
    "plt.bar(x - width*2/6, compcorr['corr_2hr'], width/6, color=cs[2], label='2hr')\n",
    "plt.bar(x - width*1/6, compcorr['corr_3hr'], width/6, color=cs[3], label='3hr')\n",
    "plt.bar(x + width*0/6, compcorr['corr_4hr'], width/6, color=cs[4], label='4hr')\n",
    "plt.bar(x + width*1/6, compcorr['corr_5hr'], width/6, color=cs[5], label='5hr')\n",
    "plt.bar(x + width*2/6, compcorr['corr_6hr'], width/6, color=cs[6], label='6hr')\n",
    "plt.xticks(x, comprmse['id'], fontsize=10)\n",
    "plt.legend(bbox_to_anchor=(1.1, 0.9))\n",
    "plt.show()\n"
   ]
  },
  {
   "cell_type": "code",
   "execution_count": null,
   "metadata": {},
   "outputs": [],
   "source": []
  }
 ],
 "metadata": {
  "kernelspec": {
   "display_name": "Python 3",
   "language": "python",
   "name": "python3"
  },
  "language_info": {
   "codemirror_mode": {
    "name": "ipython",
    "version": 3
   },
   "file_extension": ".py",
   "mimetype": "text/x-python",
   "name": "python",
   "nbconvert_exporter": "python",
   "pygments_lexer": "ipython3",
   "version": "3.7.9"
  }
 },
 "nbformat": 4,
 "nbformat_minor": 4
}
