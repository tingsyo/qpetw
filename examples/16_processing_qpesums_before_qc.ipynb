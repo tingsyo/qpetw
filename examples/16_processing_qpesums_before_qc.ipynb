{
 "cells": [
  {
   "cell_type": "markdown",
   "metadata": {},
   "source": [
    "# 未經雨量站校正--過去01小時雷達降水估算資料\n",
    "\n",
    "\n",
    "## Header\n",
    "\n",
    "```\n",
    "      integer yyyy,mm,dd,hh,mn,ss,nx,ny,nz  ! 1-9th vars\n",
    "      character proj*4                      ! 10th vars\n",
    "      integer map_scale,projlat1,projlat2,projlon,alon,alat\n",
    "      integer xy_scale,dx,dy,dxy_scale      ! 11-20th vars\n",
    "      integer z_scale,i_bb_mode,unkn01(9)\n",
    "      character varname*20,varunit*6\n",
    "      integer var_scale,missing,nradar\n",
    "      integer,allocatable :: zht(:)\n",
    "      character,allocatable ::  mosradar(:)*4\n",
    "      integer*2,allocatable :: var(:,:,:)\n",
    "      integer*4,allocatable :: var4(:,:,:)\n",
    "      real,allocatable :: var_true(:,:,:)\n",
    "\n",
    "      integer*4,allocatable :: I_var_true(:,:,:)\n",
    "      character var_type\n",
    "      integer x,y\n",
    "```\n",
    "\n",
    "## Note\n",
    "\n",
    "- yyyy、mm、dd、hh、mn、ss\n",
    "- nx、ny :  xy網格點數(1~441;1~561)\n",
    "- nz : 垂直層數\n",
    "- proj : \n",
    "- map_scale = 1000 \n",
    "- projlat1=0\n",
    "- projlat2=0\n",
    "- projlon=0\n",
    "- alon = 118000/map_scale (118000/1000=118.)\n",
    "- alat =  27000/map_scale ( 27000/1000=27.)\n",
    "  - (alon、alat為QPESUMS初始指標點，左上角；但資料存放位置由左下角開始<由左->右;由下->上>)\n",
    "- xyscale=1000\n",
    "- dx=1250 ; dy=1250\n",
    "- dxy_scale=100000   {dx/dxy_scale => 1250/1000000.0125度(資料解析度)  }\n",
    "- zht=1000(垂直層厚度)\n",
    "- z_scale=1\n",
    "- i_bb_mode=1\n",
    "- unkn01(1-9)=信心度額外參數\n",
    "  - unkn01(1)=>  佳\n",
    "  - unkn01(2)=>中等\n",
    "  - unkn01(3)=>不佳\n",
    "  - unkn01(4)=>1000\n",
    "  - unkn01(5)=>雨量站數\n",
    "  - 佳=>unkn01(1)/unkn01(4)\n",
    "  - 中等=>unkn01(2)/unkn01(4)\n",
    "  - 不佳=>unkn01(3)/unkn01(4)\n",
    "\n",
    "- varneme=>變數名稱\n",
    "- varunit 變數單位\n",
    "- var_scale=1 (變數 var 乘var_scale後存至binary)\n",
    "- missing=0(無效值)\n",
    "- nradar = 雷達個數\n",
    "- mosradar(1-6)=雷達名稱"
   ]
  },
  {
   "cell_type": "code",
   "execution_count": 1,
   "metadata": {},
   "outputs": [
    {
     "name": "stdout",
     "output_type": "stream",
     "text": [
      "494972\n"
     ]
    }
   ],
   "source": [
    "import gzip, os\n",
    "# Read binary data from gz file\n",
    "with gzip.open('sample/PCP_1H_RAD.20140715.0700.gz', 'rb') as f:\n",
    "    data0 = f.read()\n",
    "print(len(data0))"
   ]
  },
  {
   "cell_type": "code",
   "execution_count": 2,
   "metadata": {},
   "outputs": [
    {
     "name": "stdout",
     "output_type": "stream",
     "text": [
      "(2014, 7, 15, 7, 0, 0, 441, 561, 1)\n",
      "LL  \n",
      "1000 30000 60000 120750 118000 27000 1000 1250 1250 100000\n",
      "0 1 0\n",
      "0 0 0 0 0 0 0 0 0\n",
      "1h_rad_hsr\u0000hsr\u0000\u0000\u0000xæ\u0000 mm\u00001H\u0000\n",
      "10 -999 1\n",
      "(b'none',)\n"
     ]
    }
   ],
   "source": [
    "import struct\n",
    "# Header section 1\n",
    "yyyy,mm,dd,hh,mn,ss,nx,ny,nz = struct.unpack('iiiiiiiii', data0[:36])\n",
    "print((yyyy,mm,dd,hh,mn,ss,nx,ny,nz))\n",
    "# Header section 2\n",
    "proj = struct.unpack('4s', data0[36:40])\n",
    "print(proj[0].decode('utf-8'))\n",
    "map_scale,projlat1,projlat2,projlon,alon,alat,xy_scale,dx,dy,dxy_scale = struct.unpack('iiiiiiiiii', data0[40:80])\n",
    "print(map_scale,projlat1,projlat2,projlon,alon,alat,xy_scale,dx,dy,dxy_scale)\n",
    "# Header section 3\n",
    "zht,z_scale,i_bb_mode = struct.unpack('iii', data0[80:92])\n",
    "print(zht,z_scale,i_bb_mode)\n",
    "unkn01,unkn02,unkn03,unkn04,unkn05,unkn06,unkn07,unkn08,unkn09 = struct.unpack('iiiiiiiii', data0[92:128])\n",
    "print(unkn01,unkn02,unkn03,unkn04,unkn05,unkn06,unkn07,unkn08,unkn09)\n",
    "varname = struct.unpack('20s', data0[128:148])\n",
    "varunit = struct.unpack('6s', data0[148:154])\n",
    "print(varname[0].decode('ISO-8859-1'), varunit[0].decode('utf-8'))\n",
    "var_scale,missing,nradar = struct.unpack('iii', data0[154:166])\n",
    "print(var_scale,missing,nradar)\n",
    "mosradar = struct.unpack('4s', data0[166:170])\n",
    "print(mosradar)\n"
   ]
  },
  {
   "cell_type": "code",
   "execution_count": 3,
   "metadata": {},
   "outputs": [
    {
     "name": "stdout",
     "output_type": "stream",
     "text": [
      "247401\n",
      "494972\n",
      "247401\n"
     ]
    }
   ],
   "source": [
    "# Read data\n",
    "print(nx*ny)\n",
    "print(nx*ny*2+170)\n",
    "var = struct.unpack('247401h', data0[170:])\n",
    "print(len(var))"
   ]
  },
  {
   "cell_type": "code",
   "execution_count": 4,
   "metadata": {},
   "outputs": [
    {
     "data": {
      "image/png": "[encoded data removed]",
      "text/plain": [
       "<Figure size 432x288 with 2 Axes>"
      ]
     },
     "metadata": {
      "needs_background": "light"
     },
     "output_type": "display_data"
    }
   ],
   "source": [
    "%matplotlib inline\n",
    "import matplotlib.pyplot as plt\n",
    "import numpy as np\n",
    "\n",
    "varnp = np.array(var).reshape(ny,nx)\n",
    "plt.imshow(np.flipud(varnp))\n",
    "plt.colorbar()\n",
    "plt.show()"
   ]
  },
  {
   "cell_type": "code",
   "execution_count": 5,
   "metadata": {},
   "outputs": [],
   "source": [
    "class cwbqpe:\n",
    "    \n",
    "    def __init__(self, file=None, data=None):\n",
    "        self.uri = file\n",
    "        self.header = None\n",
    "        self.data = data\n",
    "        \n",
    "    def help(self):\n",
    "        print(\"This toolset provides functions accessing CWB QPESUMS data. \\nThe data is 494972 bytes binary stored in gzip format. The first 170 bytes is the header, and the latter part is the QPE results on a (441x561) surface.\\n\")\n",
    "    \n",
    "    def load_data(self, file=None):\n",
    "        import os, gzip, struct\n",
    "        import numpy as np\n",
    "        # Check data file\n",
    "        if (self.uri is None):\n",
    "            if (file is None) or (not os.path.isfile(file)):\n",
    "                print('[Error] The data file is not specified or does not exist.')\n",
    "                return(None)\n",
    "            else:\n",
    "                self.uri = file\n",
    "        # Load data\n",
    "        with gzip.open(self.uri, 'rb') as f:\n",
    "            raw = f.read()\n",
    "        # Parse header\n",
    "        self.header = self.parse_header(raw[:170])\n",
    "        self.data = np.array(struct.unpack('247401h', raw[170:])).reshape(self.header['ny'], self.header['nx'])\n",
    "        return(0)\n",
    "    \n",
    "    def parse_header(self, raw):\n",
    "        import struct\n",
    "        header = {}\n",
    "        # Time information\n",
    "        header['year'] = struct.unpack('i', raw[:4])[0]\n",
    "        header['month'] = struct.unpack('i', raw[4:8])[0]\n",
    "        header['day'] = struct.unpack('i', raw[8:12])[0]\n",
    "        header['hour'] = struct.unpack('i', raw[12:16])[0]\n",
    "        header['minute'] = struct.unpack('i', raw[16:20])[0]\n",
    "        header['second'] = struct.unpack('i', raw[20:24])[0]\n",
    "        # Data dimension\n",
    "        header['nx'] = struct.unpack('i', raw[24:28])[0]\n",
    "        header['ny'] = struct.unpack('i', raw[28:32])[0]\n",
    "        header['nz'] = struct.unpack('i', raw[32:36])[0]\n",
    "        # Projection and lat/lon\n",
    "        header['proj'] = struct.unpack('4s', raw[36:40])[0].decode('ISO-8859-1')\n",
    "        header['map_scale'] = struct.unpack('i', raw[40:44])[0]\n",
    "        header['projlat1'] = struct.unpack('i', raw[44:48])[0]\n",
    "        header['projlat2'] = struct.unpack('i', raw[48:52])[0]\n",
    "        header['projlon'] = struct.unpack('i', raw[52:56])[0]\n",
    "        header['alon'] = struct.unpack('i', raw[56:60])[0]\n",
    "        header['alat'] = struct.unpack('i', raw[60:64])[0]\n",
    "        # Delta in x-y-z\n",
    "        header['pxy_scale'] = struct.unpack('i', raw[64:68])[0]\n",
    "        header['dx'] = struct.unpack('i', raw[68:72])[0]\n",
    "        header['dy'] = struct.unpack('i', raw[72:76])[0]\n",
    "        header['dxy_scale'] = struct.unpack('i', raw[76:80])[0]\n",
    "        header['zht'] = struct.unpack('i', raw[80:84])[0]\n",
    "        header['z_scale'] = struct.unpack('i', raw[84:88])[0]\n",
    "        header['i_bb_mode'] = struct.unpack('i', raw[88:92])[0]\n",
    "        # Quality information\n",
    "        unkn01,unkn02,unkn03,unkn04,unkn05,unkn06,unkn07,unkn08,unkn09 = struct.unpack('iiiiiiiii', raw[92:128])\n",
    "        # Variable information\n",
    "        header['varname'] = struct.unpack('20s', raw[128:148])[0].decode('ISO-8859-1')\n",
    "        header['varunit'] = struct.unpack('6s', raw[148:154])[0].decode('ISO-8859-1')\n",
    "        header['var_scale'] = struct.unpack('i', raw[154:158])[0]\n",
    "        header['missing'] = struct.unpack('i', raw[158:162])[0]\n",
    "        header['nradar'] = struct.unpack('i', raw[162:166])[0]\n",
    "        header['mosradar'] = struct.unpack('4s', raw[166:170])[0].decode('ISO-8859-1')\n",
    "        #\n",
    "        return(header)\n",
    "\n",
    "    def find_closest_value(self, lon, lat):\n",
    "        ''' Find the closest point in the dataset to the specified lon/lat.'''\n",
    "        # Check data file\n",
    "        if (self.header is None):\n",
    "            print('[Error] The object has not yet been initialized.')\n",
    "            return(None)\n",
    "        # Derive the coordinate of the data object\n",
    "        lon0 = self.header['alon']/self.header['map_scale']\n",
    "        lat1 = self.header['alat']/self.header['map_scale']\n",
    "        dx = self.header['dx']/self.header['dxy_scale']\n",
    "        dy = self.header['dy']/self.header['dxy_scale']\n",
    "        lon1 = lon0 + (self.header['nx']-1)*dx\n",
    "        lat0 = lat1 - (self.header['ny']-1)*dy\n",
    "        lons = np.linspace(lon0, lon1, self.header['nx'])\n",
    "        lats = np.linspace(lat0, lat1, self.header['ny'])\n",
    "        # Check boundaries\n",
    "        if (lon<lon0) or (lon>lon1) or (lat<lat0) or (lat>lat1):\n",
    "            print(\"Specified lon/lat is outside of the data boundary: \"+\n",
    "                  str(lon0)+\"~\"+str(lon1)+\", \"+str(lat0)+\"~\"+str(lat1))\n",
    "            return(None)\n",
    "        # Find neighbors\n",
    "        ilonr = np.where(lons>lon)[0][0]\n",
    "        ilonl = np.where(lons<=lon)[0][-1]\n",
    "        ilatu = np.where(lats>lat)[0][0]\n",
    "        ilatd = np.where(lats<=lat)[0][-1]\n",
    "        # Determin the closest point\n",
    "        if (lon - lons[ilonl]) <= (lons[ilonr] - lon):\n",
    "            ilon = ilonl\n",
    "        else:\n",
    "            ilon = ilonr\n",
    "        if (lat - lats[ilatd]) <= (lats[ilatu] - lat):\n",
    "            ilat = ilatd\n",
    "        else:\n",
    "            ilat = ilatu\n",
    "        #\n",
    "        return((lons[ilon], lats[ilat], self.data[ilon,ilat]))\n",
    "\n",
    "    def find_interpolated_value(self, lon, lat):\n",
    "        ''' Find the closest points and interpolate to the specified lon/lat.'''\n",
    "        # Check data file\n",
    "        if (self.header is None):\n",
    "            print('[Error] The object has not yet been initialized.')\n",
    "            return(None)\n",
    "        # Derive the coordinate of the data object\n",
    "        lon0 = self.header['alon']/self.header['map_scale']\n",
    "        lat1 = self.header['alat']/self.header['map_scale']\n",
    "        dx = self.header['dx']/self.header['dxy_scale']\n",
    "        dy = self.header['dy']/self.header['dxy_scale']\n",
    "        lon1 = lon0 + (self.header['nx']-1)*dx\n",
    "        lat0 = lat1 - (self.header['ny']-1)*dy\n",
    "        lons = np.linspace(lon0, lon1, self.header['nx'])\n",
    "        lats = np.linspace(lat0, lat1, self.header['ny'])\n",
    "        # Check boundaries\n",
    "        if (lon<lon0) or (lon>lon1) or (lat<lat0) or (lat>lat1):\n",
    "            print(\"Specified lon/lat is outside of the data boundary: \"+\n",
    "                  str(lon0)+\"~\"+str(lon1)+\", \"+str(lat0)+\"~\"+str(lat1))\n",
    "            return(None)\n",
    "        # Find neighbors\n",
    "        ilonr = np.where(lons>lon)[0][0]\n",
    "        ilonl = np.where(lons<=lon)[0][-1]\n",
    "        ilatu = np.where(lats>lat)[0][0]\n",
    "        ilatd = np.where(lats<=lat)[0][-1]\n",
    "        # Interpolate\n",
    "        def bilinear_interpolation(x, y, x1, x2, y1, y2, z):\n",
    "            '''Bilinear interpolation, ref:https://en.wikipedia.org/wiki/Bilinear_interpolation'''\n",
    "            A = np.array([[1,x1,y1,x1*y1],[1,x1,y2,x1*y2],[1,x2,y1,x2*y1],[1,x2,y2,x2*y2]])\n",
    "            a = np.linalg.solve(A,z)\n",
    "            fxy = a[0] + a[1]*x + a[2]*y + a[3]*x*y\n",
    "            return(fxy)\n",
    "        #\n",
    "        neighbours = [self.data[ilonl,ilatd], self.data[ilonl,ilatu], self.data[ilonr,ilatd], self.data[ilonr,ilatu]]\n",
    "        value = bilinear_interpolation(lon, lat, lons[ilonl], lons[ilonr],lats[ilatd], lats[ilatu], neighbours)\n",
    "        return(value)\n",
    "\n",
    "    "
   ]
  },
  {
   "cell_type": "code",
   "execution_count": 6,
   "metadata": {},
   "outputs": [
    {
     "name": "stdout",
     "output_type": "stream",
     "text": [
      "None\n",
      "None\n",
      "None\n",
      "year:\t2014\n",
      "month:\t7\n",
      "day:\t15\n",
      "hour:\t7\n",
      "minute:\t0\n",
      "second:\t0\n",
      "nx:\t441\n",
      "ny:\t561\n",
      "nz:\t1\n",
      "proj:\tLL  \n",
      "map_scale:\t1000\n",
      "projlat1:\t30000\n",
      "projlat2:\t60000\n",
      "projlon:\t120750\n",
      "alon:\t118000\n",
      "alat:\t27000\n",
      "pxy_scale:\t1000\n",
      "dx:\t1250\n",
      "dy:\t1250\n",
      "dxy_scale:\t100000\n",
      "zht:\t0\n",
      "z_scale:\t1\n",
      "i_bb_mode:\t0\n",
      "varname:\t1h_rad_hsr\u0000hsr\u0000\u0000\u0000xæ\u0000\n",
      "varunit:\tmm\u00001H\u0000\n",
      "var_scale:\t10\n",
      "missing:\t-999\n",
      "nradar:\t1\n",
      "mosradar:\tnone\n",
      "(561, 441)\n"
     ]
    }
   ],
   "source": [
    "# Test Object\n",
    "cq = cwbqpe()\n",
    "print(cq.uri)\n",
    "print(cq.header)\n",
    "print(cq.data)\n",
    "\n",
    "# Test reding data\n",
    "cq.load_data('sample/PCP_1H_RAD.20140715.0700.gz')\n",
    "for k,v in cq.header.items():\n",
    "    print(k +\":\\t\"+str(v))\n",
    "print(cq.data.shape)"
   ]
  },
  {
   "cell_type": "code",
   "execution_count": 7,
   "metadata": {},
   "outputs": [
    {
     "name": "stdout",
     "output_type": "stream",
     "text": [
      "118.0 123.5 0.0125\n",
      "20.0 27.0 0.0125\n"
     ]
    }
   ],
   "source": [
    "# Add coornidate to the data (lon/lat)\n",
    "lon0 = cq.header['alon']/cq.header['map_scale']\n",
    "lat1 = cq.header['alat']/cq.header['map_scale']\n",
    "\n",
    "dx = cq.header['dx']/cq.header['dxy_scale']\n",
    "dy = cq.header['dy']/cq.header['dxy_scale']\n",
    "\n",
    "lon1 = lon0 + (cq.header['nx']-1)*dx\n",
    "lat0 = lat1 - (cq.header['ny']-1)*dy\n",
    "\n",
    "print(lon0, lon1, dx)\n",
    "print(lat0, lat1, dy)"
   ]
  },
  {
   "cell_type": "code",
   "execution_count": 8,
   "metadata": {},
   "outputs": [
    {
     "name": "stderr",
     "output_type": "stream",
     "text": [
      "C:\\Users\\tsyo\\AppData\\Local\\Continuum\\anaconda3\\lib\\site-packages\\ipykernel_launcher.py:11: MatplotlibDeprecationWarning: \n",
      "The dedent function was deprecated in Matplotlib 3.1 and will be removed in 3.3. Use inspect.cleandoc instead.\n",
      "  # This is added back by InteractiveShellApp.init_path()\n"
     ]
    },
    {
     "data": {
      "image/png": "[encoded data removed]",
      "text/plain": [
       "<Figure size 432x288 with 2 Axes>"
      ]
     },
     "metadata": {
      "needs_background": "light"
     },
     "output_type": "display_data"
    },
    {
     "name": "stderr",
     "output_type": "stream",
     "text": [
      "C:\\Users\\tsyo\\AppData\\Local\\Continuum\\anaconda3\\lib\\site-packages\\ipykernel_launcher.py:20: MatplotlibDeprecationWarning: \n",
      "The dedent function was deprecated in Matplotlib 3.1 and will be removed in 3.3. Use inspect.cleandoc instead.\n"
     ]
    },
    {
     "data": {
      "image/png": "[encoded data removed]",
      "text/plain": [
       "<Figure size 432x288 with 2 Axes>"
      ]
     },
     "metadata": {
      "needs_background": "light"
     },
     "output_type": "display_data"
    }
   ],
   "source": [
    "# Show data\n",
    "%matplotlib inline\n",
    "import matplotlib.pyplot as plt\n",
    "from mpl_toolkits.basemap import Basemap\n",
    "import numpy as np\n",
    "\n",
    "lons = np.linspace(lon0, lon1, cq.header['nx'])\n",
    "lats = np.linspace(lat0, lat1, cq.header['ny'])\n",
    "x,y = np.meshgrid(lons, lats)\n",
    "\n",
    "m = Basemap(llcrnrlon=lon0, urcrnrlon=lon1, llcrnrlat=lat0, urcrnrlat=lat1, resolution='l')\n",
    "m.drawcoastlines()\n",
    "\n",
    "m.imshow(cq.data, cmap=plt.cm.jet)\n",
    "m.colorbar()\n",
    "\n",
    "plt.tight_layout()\n",
    "plt.show()\n",
    "\n",
    "m = Basemap(llcrnrlon=lon0, urcrnrlon=lon1, llcrnrlat=lat0, urcrnrlat=lat1, resolution='l')\n",
    "m.drawcoastlines()\n",
    "\n",
    "m.contourf(x, y, cq.data, cmap=plt.cm.jet)\n",
    "m.colorbar()\n",
    "\n",
    "plt.tight_layout()\n",
    "plt.show()"
   ]
  },
  {
   "cell_type": "code",
   "execution_count": 9,
   "metadata": {},
   "outputs": [],
   "source": [
    "# Convert lon/lat to grid point\n",
    "def find_closest_value(lon, lat, cq):\n",
    "    # Derive the coordinate of the data object\n",
    "    lon0 = cq.header['alon']/cq.header['map_scale']\n",
    "    lat1 = cq.header['alat']/cq.header['map_scale']\n",
    "    dx = cq.header['dx']/cq.header['dxy_scale']\n",
    "    dy = cq.header['dy']/cq.header['dxy_scale']\n",
    "    lon1 = lon0 + (cq.header['nx']-1)*dx\n",
    "    lat0 = lat1 - (cq.header['ny']-1)*dy\n",
    "    lons = np.linspace(lon0, lon1, cq.header['nx'])\n",
    "    lats = np.linspace(lat0, lat1, cq.header['ny'])\n",
    "    # Check boundaries\n",
    "    if (lon<lon0) or (lon>lon1) or (lat<lat0) or (lat>lat1):\n",
    "        print(\"Specified lon/lat is outside of the data boundary: \"+str(lon0)+\"~\"+str(lon1)+\", \"+str(lat0)+\"~\"+str(lat1))\n",
    "        return(None)\n",
    "    # Find neighbors\n",
    "    ilonr = np.where(lons>lon)[0][0]\n",
    "    ilonl = np.where(lons<=lon)[0][-1]\n",
    "    ilatu = np.where(lats>lat)[0][0]\n",
    "    ilatd = np.where(lats<=lat)[0][-1]\n",
    "    # Determin the closest point\n",
    "    if (lon - lons[ilonl]) <= (lons[ilonr] - lon):\n",
    "        ilon = ilonl\n",
    "    else:\n",
    "        ilon = ilonr\n",
    "    if (lat - lats[ilatd]) <= (lats[ilatu] - lat):\n",
    "        ilat = ilatd\n",
    "    else:\n",
    "        ilat = ilatu\n",
    "    #\n",
    "    return((lons[ilon], lats[ilat], cq.data[ilon,ilat]))"
   ]
  },
  {
   "cell_type": "code",
   "execution_count": 10,
   "metadata": {},
   "outputs": [
    {
     "name": "stdout",
     "output_type": "stream",
     "text": [
      "[ 0.          0.52631579  1.05263158  1.57894737  2.10526316  2.63157895\n",
      "  3.15789474  3.68421053  4.21052632  4.73684211  5.26315789  5.78947368\n",
      "  6.31578947  6.84210526  7.36842105  7.89473684  8.42105263  8.94736842\n",
      "  9.47368421 10.        ]\n",
      "[ 0.          0.52631579  1.05263158  1.57894737  2.10526316  2.63157895\n",
      "  3.15789474  3.68421053  4.21052632  4.73684211  5.26315789  5.78947368\n",
      "  6.31578947  6.84210526  7.36842105  7.89473684  8.42105263  8.94736842\n",
      "  9.47368421 10.        ]\n",
      "3.1578947368421053 3.6842105263157894\n"
     ]
    }
   ],
   "source": [
    "# Test find closest grid point\n",
    "xs = np.linspace(0,10,20)\n",
    "ys = np.linspace(0,10,20)\n",
    "print(xs)\n",
    "print(ys)\n",
    "\n",
    "px, py = (3.2, 5.8)\n",
    "\n",
    "xr = xs[np.where((xs>px),)[0][0]]\n",
    "xl = xs[np.where((xs<=px),)[0][-1]]\n",
    "\n",
    "print(xl, xr)"
   ]
  },
  {
   "cell_type": "code",
   "execution_count": 11,
   "metadata": {},
   "outputs": [
    {
     "data": {
      "text/plain": [
       "(120.4375, 23.5, 0)"
      ]
     },
     "execution_count": 11,
     "metadata": {},
     "output_type": "execute_result"
    }
   ],
   "source": [
    "find_closest_value(120.4329, 23.4959, cq)"
   ]
  },
  {
   "cell_type": "code",
   "execution_count": 12,
   "metadata": {},
   "outputs": [
    {
     "name": "stdout",
     "output_type": "stream",
     "text": [
      "230 213\n",
      "120.875 22.6625\n",
      "269\n"
     ]
    },
    {
     "data": {
      "text/plain": [
       "(120.8875, 22.6625, 30)"
      ]
     },
     "execution_count": 12,
     "metadata": {},
     "output_type": "execute_result"
    }
   ],
   "source": [
    "# Test\n",
    "xs, ys = np.where(cq.data>100)\n",
    "print(xs[0], ys[0])\n",
    "xlon = lon0 + xs[0]*dx\n",
    "xlat = lat0 + ys[0]*dy\n",
    "print(xlon, xlat)\n",
    "print(cq.data[xs[0], ys[0]])\n",
    "find_closest_value(120.882, 22.664, cq)"
   ]
  },
  {
   "cell_type": "markdown",
   "metadata": {},
   "source": [
    "## Interpolation\n",
    "\n",
    "### [Bilinear interpolation](https://en.wikipedia.org/wiki/Bilinear_interpolation)\n",
    "\n",
    "Assumed that we know the value of f at the four points Q11 = (x1, y1), Q12 = (x1, y2), Q21 = (x2, y1), and Q22 = (x2, y2).\n",
    "\n",
    "$f(x,y) \\sim a_0 + a_1x + a_2y + a_3xy$\n",
    "\n",
    "<img src='https://wikimedia.org/api/rest_v1/media/math/render/svg/ea0d3dc173ca61ce1821304299e852a7aeed4176' />"
   ]
  },
  {
   "cell_type": "code",
   "execution_count": 13,
   "metadata": {},
   "outputs": [
    {
     "name": "stdout",
     "output_type": "stream",
     "text": [
      "2.5\n",
      "2.2\n"
     ]
    }
   ],
   "source": [
    "import numpy as np\n",
    "\n",
    "# Solve linear system with numpy\n",
    "# https://docs.scipy.org/doc/numpy/reference/generated/numpy.linalg.solve.html\n",
    "\n",
    "x1 = 0.\n",
    "x2 = 1.\n",
    "y1 = 0.\n",
    "y2 = 1.\n",
    "z = [1.,2.,3.,4.]\n",
    "\n",
    "def bilinear_interpolation(x, y, x1, x2, y1, y2, z):\n",
    "    A = np.array([[1,x1,y1,x1*y1],[1,x1,y2,x1*y2],[1,x2,y1,x2*y1],[1,x2,y2,x2*y2]])\n",
    "    a = np.linalg.solve(A,z)\n",
    "    fxy = a[0] + a[1]*x + a[2]*y + a[3]*x*y\n",
    "    return(fxy)\n",
    "\n",
    "print(bilinear_interpolation(0.5,0.5, x1, x2, y1, y2, z))\n",
    "print(bilinear_interpolation(0.3,0.6, x1, x2, y1, y2, z))"
   ]
  },
  {
   "cell_type": "code",
   "execution_count": 14,
   "metadata": {},
   "outputs": [
    {
     "data": {
      "text/plain": [
       "<matplotlib.image.AxesImage at 0x18892fb2848>"
      ]
     },
     "execution_count": 14,
     "metadata": {},
     "output_type": "execute_result"
    },
    {
     "data": {
      "image/png": "[encoded data removed]",
      "text/plain": [
       "<Figure size 432x288 with 1 Axes>"
      ]
     },
     "metadata": {
      "needs_background": "light"
     },
     "output_type": "display_data"
    }
   ],
   "source": [
    "%matplotlib inline\n",
    "import matplotlib.pyplot as plt\n",
    "\n",
    "plt.imshow(np.array([[1,2],[3,4]]))"
   ]
  },
  {
   "cell_type": "code",
   "execution_count": 15,
   "metadata": {},
   "outputs": [
    {
     "data": {
      "text/plain": [
       "118.94080018997192"
      ]
     },
     "execution_count": 15,
     "metadata": {},
     "output_type": "execute_result"
    }
   ],
   "source": [
    "# Test interpolation\n",
    "cq.find_interpolated_value(120.882, 22.664)"
   ]
  },
  {
   "cell_type": "code",
   "execution_count": null,
   "metadata": {},
   "outputs": [],
   "source": []
  }
 ],
 "metadata": {
  "kernelspec": {
   "display_name": "Python 3",
   "language": "python",
   "name": "python3"
  },
  "language_info": {
   "codemirror_mode": {
    "name": "ipython",
    "version": 3
   },
   "file_extension": ".py",
   "mimetype": "text/x-python",
   "name": "python",
   "nbconvert_exporter": "python",
   "pygments_lexer": "ipython3",
   "version": "3.7.4"
  }
 },
 "nbformat": 4,
 "nbformat_minor": 2
}
