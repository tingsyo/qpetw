{
 "cells": [
  {
   "cell_type": "markdown",
   "metadata": {},
   "source": [
    "# Convolutional Neural Network for QPE (2) \n",
    "## Multi-Label Classification\n",
    "\n",
    "In the previous example, we see tha CNN-based regression can do well in *correlation*, but the regression output is very unstable. In multiple trials, the center and spread shift randomly and hence this approach seems not suitable for forecasting.\n",
    "\n",
    "An alternative is to train a similar CNN for multi-label or binary classification, and then use the layers before the final output as dimension reduction filters and send to a more stable regressor such as GLM or SVM.\n",
    "\n",
    "Hence we will test classification based CNN in this example.\n",
    "\n",
    "\n",
    "### [Appendix] Categorize Continuous Variables\n",
    "\n",
    "In `numpy` there are two functions to convert continuous variables to cateogry ones: [`numpy.digitize()`](https://docs.scipy.org/doc/numpy/reference/generated/numpy.digitize.html) and [`numpy.histogram()`](https://docs.scipy.org/doc/numpy/reference/generated/numpy.histogram.html), but they yeld different results.\n",
    "\n",
    "While [`numpy.histogram()`](https://docs.scipy.org/doc/numpy/reference/generated/numpy.histogram.html) give categories only between the specified bins, [`numpy.digitize()`](https://docs.scipy.org/doc/numpy/reference/generated/numpy.digitize.html) gives extra category for values outside of the largest values in bins."
   ]
  },
  {
   "cell_type": "code",
   "execution_count": 1,
   "metadata": {},
   "outputs": [
    {
     "name": "stdout",
     "output_type": "stream",
     "text": [
      "(array([ 51,  38, 155, 256], dtype=int64), array([  0,   5,  10,  30, 200]))\n",
      "1     51\n",
      "2     38\n",
      "3    155\n",
      "4    256\n",
      "dtype: int64\n",
      "[ 51  38 155 256]\n",
      "[0, 5, 10, 30, 200]\n",
      "[0, 5, 10, 30]\n"
     ]
    },
    {
     "data": {
      "image/png": "[encoded data removed]",
      "text/plain": [
       "<Figure size 432x288 with 1 Axes>"
      ]
     },
     "metadata": {
      "needs_background": "light"
     },
     "output_type": "display_data"
    }
   ],
   "source": [
    "# This block is for testing the behavior of `numpy.histogram` and `numpy.digitize`.\n",
    "# More detailed discussion can be found at: https://github.com/numpy/numpy/issues/9208\n",
    "%matplotlib inline\n",
    "import matplotlib.pyplot as plt\n",
    "import numpy as np\n",
    "import pandas as pd\n",
    "\n",
    "ybins = [0, 5, 10, 30, 200]\n",
    "a = np.abs(np.random.randn(500)*50)\n",
    "# numpy.histogram\n",
    "ha = np.histogram(a, bins=ybins)\n",
    "print(ha)\n",
    "plt.hist(a, bins=ybins)\n",
    "# numpy.digitize\n",
    "da = np.digitize(a, ybins)\n",
    "dac = np.array(pd.Series(da).value_counts().sort_index())\n",
    "print(pd.Series(da).value_counts().sort_index())\n",
    "print(dac)\n",
    "print(ybins)\n",
    "print(ybins[:-1])"
   ]
  },
  {
   "cell_type": "markdown",
   "metadata": {},
   "source": [
    "From the results shown above, when we use `numpy.digitize()` to categorize a continuous variable, we need to specify the number of categories in order to avoid empty bins."
   ]
  },
  {
   "cell_type": "code",
   "execution_count": 88,
   "metadata": {},
   "outputs": [],
   "source": [
    "import os, csv, logging, argparse, glob, h5py, pickle\n",
    "import numpy as np\n",
    "import pandas as pd\n",
    "import tensorflow as tf\n",
    "from tensorflow.keras.layers import Input, Dropout, Dense, Flatten, Activation\n",
    "from tensorflow.keras.layers import Conv2D, BatchNormalization, MaxPooling2D\n",
    "from tensorflow.keras.models import Model, load_model\n",
    "from tensorflow.keras.optimizers import SGD, Adam\n",
    "from tensorflow.keras import regularizers\n",
    "from tensorflow.keras import initializers\n",
    "from tensorflow.keras.utils import normalize, to_categorical\n",
    "\n",
    "# Parameters\n",
    "nLayer = 6                      # 6 10-min dbz for an hour\n",
    "nY = 275                        # y-dimension of dbz data\n",
    "nX = 162                        # x-dimension of dbz data\n",
    "batchSize = 128                 # Batch size for training / testing\n",
    "prec_bins=[0, 0.5, 10, 15, 30, 1000]\n",
    "yseg_stat = [0.5, 8, 13, 29]    # 40-year statistics of hourly precipitation of trace, 90%, 95%, and 99% percentile\n",
    "yseg = [0.5, 10, 15, 30]        # Actual segmentation for precipitation\n",
    "\n",
    "#-----------------------------------------------------------------------\n",
    "# Functions\n",
    "#-----------------------------------------------------------------------\n",
    "# Load input/output data for model\n",
    "def loadIOTab(srcx, srcy, dropna=False):\n",
    "    import pandas as pd\n",
    "    # Read raw input and output\n",
    "    #logging.info(\"Reading input X from: \"+ srcx)\n",
    "    print(\"Reading input X from: \"+ srcx)\n",
    "    xfiles = []\n",
    "    for root, dirs, files in os.walk(srcx): \n",
    "        for fn in files: \n",
    "            if fn.endswith('.npy'): \n",
    "                 xfiles.append({'date':fn.replace('.npy',''), 'xuri':os.path.join(root, fn)})\n",
    "    xfiles = pd.DataFrame(xfiles)\n",
    "    print(\"... read input size: \"+str(xfiles.shape))\n",
    "    #logging.info(\"Reading output Y from: \"+ srcy)\n",
    "    print(\"Reading output Y from: \"+ srcy)\n",
    "    yraw = pd.read_csv(srcy, encoding='utf-8')\n",
    "    yraw['date'] = yraw['date'].apply(str)\n",
    "    print(\"... read output size: \"+str(yraw.shape))\n",
    "    # Create complete IO-data\n",
    "    print(\"Pairing X-Y and splitting training/testing data.\")\n",
    "    iotab = pd.merge(yraw, xfiles, on='date', sort=True)\n",
    "    print(\"... data size after merging: \"+str(iotab.shape))\n",
    "    # Dro NA if specified\n",
    "    if dropna:\n",
    "        print('Dropping records with NA')\n",
    "        iotab = iotab.dropna()\n",
    "        print(\"... data size after dropping-NAs: \"+str(iotab.shape))\n",
    "    # Generate weited sampling\n",
    "\n",
    "    # Done\n",
    "    return(iotab)\n",
    "\n",
    "def generate_equal_samples(iotab, prec_bins, ylab='y', shuffle=True):\n",
    "    '''Create equal sampling list: \n",
    "           repeat sample rare categories to mtach the frequency of the majority case.\n",
    "    '''\n",
    "    # Analysis the Precipitation\n",
    "    prec_hist = np.histogram(iotab[ylab], bins=prec_bins)\n",
    "    maxc = np.max(prec_hist[0])                     # Count the most frequent category\n",
    "    nrep = np.round(maxc/prec_hist[0]).astype(int)  # Multiples required to reach max-count\n",
    "    # Categorize precipitation by specified bins\n",
    "    iotab['prec_cat'] = np.digitize(iotab[ylab], bins=prec_bins[1:-1])\n",
    "    logging.debug('Sample histogram before weighted sampling:')\n",
    "    logging.debug(iotab['prec_cat'].value_counts())\n",
    "    # Repeat sampling by p\n",
    "    for icat in range(0,len(prec_bins)-1):\n",
    "        repeat_n = nrep[icat]\n",
    "        tmp = iotab.loc[iotab['prec_cat']==icat,:]\n",
    "        print('Append data category: '+str(icat)+' for '+ str(repeat_n) +' times with size '+str(tmp.shape))\n",
    "        for j in range(int(repeat_n)-1):\n",
    "            iotab = iotab.append(tmp, ignore_index=True)\n",
    "    logging.debug('Sample histogram after weighted sampling:')\n",
    "    logging.debug(iotab['prec_cat'].value_counts().sort_index())\n",
    "    # Shuffle new dataset if specified\n",
    "    if shuffle:\n",
    "        iotab = iotab.sample(frac=1)#.reset_index(drop=True)\n",
    "    #\n",
    "    return(iotab)\n",
    "\n",
    "def loadDBZ(flist):\n",
    "    ''' Load a list a dbz files (in npy format) into one numpy array. '''\n",
    "    xdata = []\n",
    "    for f in flist:\n",
    "        tmp = np.load(f)\n",
    "        xdata.append(tmp)\n",
    "    x = np.array(xdata, dtype=np.float32)\n",
    "    return(x)\n",
    "\n",
    "# Function to give report\n",
    "def report_evaluation(y_true, y_pred, verbose=0):\n",
    "    import sklearn.metrics as metrics\n",
    "    # Calculate measures\n",
    "    results = {}\n",
    "    results['y_true_mean'] = y_true.mean()\n",
    "    results['y_true_var'] = y_true.var()\n",
    "    results['y_pred_mean'] = y_pred.mean()\n",
    "    results['y_pred_var'] = y_pred.var()\n",
    "    results['rmse'] = np.sqrt(metrics.mean_squared_error(y_true,y_pred))\n",
    "    if y_pred.var()<=10e-8:\n",
    "        results['corr'] = 0\n",
    "    else:\n",
    "        results['corr'] = np.corrcoef(y_true,y_pred)[0,1]\n",
    "    # Print results if verbose > 0\n",
    "    if verbose>0:\n",
    "        if verbose>1:\n",
    "            print('Mean of y_true: ' + str(results['y_true_mean']))\n",
    "            print('Variance of y_true: ' + str(results['y_true_var']))\n",
    "            print('Mean of y_pred: ' + str(results['y_pred_mean']))\n",
    "            print('Variance of y_pred: ' + str(results['y_pred_var']))\n",
    "        print('RMSE: ' + str(results['rmse']))\n",
    "        print('Corr: ' + str(results['corr']))\n",
    "    # Return results\n",
    "    return(results)\n",
    "\n",
    "# Create cross validation splits\n",
    "def create_CV_splits(iotable, k=5, ysegs=None, ylab='y', shuffle=False):\n",
    "    from sklearn.model_selection import StratifiedKFold, KFold\n",
    "    # Index of each fold\n",
    "    cvidx_train = []\n",
    "    cvidx_test = []\n",
    "    # If segmentation of y is not specified, use simple KFold\n",
    "    if ysegs is None:\n",
    "        kf = KFold(n_splits=k, random_state=None, shuffle=shuffle)\n",
    "        for idx_train, idx_test in kf.split(iotable['xuri']):\n",
    "            cvidx_train.append(idx_train)\n",
    "            cvidx_test.append(idx_test)\n",
    "    else:\n",
    "        kf = StratifiedKFold(n_splits=k, random_state=None, shuffle=shuffle)\n",
    "        for idx_train, idx_test in kf.split(iotable['xuri'], np.digitize(iotable[ylab], ysegs)):\n",
    "            cvidx_train.append(idx_train)\n",
    "            cvidx_test.append(idx_test)\n",
    "    return((cvidx_train, cvidx_test))\n",
    "\n",
    "def to_onehot(y, nclasses=5):\n",
    "    ''' Represent the given y vector into one-hot encoding of 5 classes (0,1,2,3,4). '''\n",
    "    L = len(y)                                          # Length of vector y\n",
    "    yoh = np.zeros((L, nclasses), dtype=np.float32)     # The one-hot encoding, initialized with 0\n",
    "    for i in range(L):\n",
    "        yoh[i, 0:y[i]] = 1                              # Encode the corresponding class\n",
    "        yoh[i, y[i]] = 1                                # Encode the corresponding class\n",
    "    return(yoh)\n",
    "\n",
    "def data_generator_mlc(iotab, batch_size, ylab='y'):\n",
    "    ''' Data generator for batched processing. '''\n",
    "    nSample = len(iotab)\n",
    "    y = np.array(iotab[ylab])\n",
    "    # This line is just to make the generator infinite, keras needs that    \n",
    "    while True:\n",
    "        batch_start = 0\n",
    "        batch_end = batch_size\n",
    "        while batch_start < nSample:\n",
    "            limit = min(batch_end, nSample)\n",
    "            X = loadDBZ(iotab['xuri'][batch_start:limit])\n",
    "            Y = to_onehot(y[batch_start:limit])\n",
    "            #print(X.shape)\n",
    "            yield (X,Y) #a tuple with two numpy arrays with batch_size samples     \n",
    "            batch_start += batch_size   \n",
    "            batch_end += batch_size\n",
    "    # End of generator\n",
    "\n",
    "# CNN\n",
    "def init_model_mlc(input_shape):\n",
    "    \"\"\"\n",
    "    :Return: \n",
    "      Newly initialized model (regression).\n",
    "    :param \n",
    "      int input_shape: The number of variables to use as input features.\n",
    "    \"\"\"\n",
    "    # Input layer\n",
    "    inputs = Input(shape=input_shape)\n",
    "    # blovk1: CONV -> CONV -> MaxPooling\n",
    "    x = Conv2D(filters=32, kernel_size=(3,3), activation='relu', name='block1_conv1', data_format='channels_first')(inputs)\n",
    "    x = BatchNormalization(axis=1)(x)\n",
    "    x = MaxPooling2D((2,2), name='block1_pool', data_format='channels_first')(x)\n",
    "    x = Dropout(0.25)(x)\n",
    "    # block2: CONV -> CONV -> MaxPooling\n",
    "    x = Conv2D(64, (3,3), activation='relu', name='block2_conv1',data_format='channels_first')(x)\n",
    "    x = BatchNormalization(axis=1)(x)\n",
    "    x = Conv2D(64, (3,3), activation='relu', name='block2_conv2',data_format='channels_first')(x)\n",
    "    x = BatchNormalization(axis=1)(x)\n",
    "    x = MaxPooling2D((2,2), name='block2_pool', data_format='channels_first')(x)\n",
    "    x = Dropout(0.25)(x)\n",
    "    # block3: CONV -> CONV -> MaxPooling\n",
    "    x = Conv2D(128, (3,3), activation='relu', name='block3_conv1',data_format='channels_first')(x)\n",
    "    x = BatchNormalization(axis=1)(x)\n",
    "    x = Conv2D(128, (3,3), activation='relu', name='block3_conv2',data_format='channels_first')(x)\n",
    "    x = BatchNormalization(axis=1)(x)\n",
    "    x = MaxPooling2D((2,2), name='block3_pool', data_format='channels_first')(x)\n",
    "    x = Dropout(0.25)(x)\n",
    "    # Output block: Flatten -> Dense -> Dense -> softmax output\n",
    "    x = Flatten()(x)\n",
    "    x = Dense(256, activation='relu', name='fc1')(x)\n",
    "    x = BatchNormalization(axis=1)(x)\n",
    "    x = Dropout(0.5)(x)\n",
    "    x = Dense(16, activation='relu', name='fc2')(x)\n",
    "    x = BatchNormalization(axis=1)(x)\n",
    "    # Output layer\n",
    "    out = Dense(5, activation='sigmoid', name='main_output')(x)\n",
    "    # Initialize model\n",
    "    model = Model(inputs = inputs, outputs = out)\n",
    "    # Define compile parameters\n",
    "    adam = Adam(lr=0.01, beta_1=0.9, beta_2=0.999, epsilon=1e-08, decay=0.0)\n",
    "    #sgd = SGD(lr=0.01, momentum=1e-8, decay=0.001, nesterov=True)#, clipvalue=1.)\n",
    "    model.compile(loss='binary_crossentropy', optimizer=adam, metrics=['accuracy'])\n",
    "    encoder = Model(inputs = inputs, outputs = x)\n",
    "    return((model, encoder))\n"
   ]
  },
  {
   "cell_type": "markdown",
   "metadata": {},
   "source": [
    "## Test one-hot encoding\n",
    "\n",
    "For multi-label classification, we need to convert continuous y to categorical and one-hot encoding. Let's test it before we proceed."
   ]
  },
  {
   "cell_type": "code",
   "execution_count": 4,
   "metadata": {},
   "outputs": [
    {
     "name": "stdout",
     "output_type": "stream",
     "text": [
      "(35064, 45)\n",
      "         date  t1hr\n",
      "0  2013010101   0.0\n",
      "1  2013010102   0.0\n",
      "2  2013010103   0.0\n",
      "3  2013010104   0.0\n",
      "4  2013010105   0.0\n"
     ]
    }
   ],
   "source": [
    "# Read data\n",
    "tmp = pd.read_csv('./data/t1hr.csv')\n",
    "# Move date to index\n",
    "dates = tmp['date']\n",
    "t1hr = tmp.iloc[:,1:]\n",
    "print(t1hr.shape)\n",
    "# Max of stations\n",
    "t1hr_max = t1hr.max(axis=1)\n",
    "\n",
    "# Create y\n",
    "y = pd.DataFrame({'date':dates, 't1hr':t1hr_max})\n",
    "print(y.head())"
   ]
  },
  {
   "cell_type": "code",
   "execution_count": 10,
   "metadata": {},
   "outputs": [
    {
     "name": "stdout",
     "output_type": "stream",
     "text": [
      "[0, 0.5, 10, 15, 30, 1000]\n"
     ]
    },
    {
     "data": {
      "text/plain": [
       "(array([19442., 13428.,   860.,   887.,   447.]),\n",
       " array([0.0e+00, 5.0e-01, 1.0e+01, 1.5e+01, 3.0e+01, 1.0e+03]),\n",
       " <a list of 5 Patch objects>)"
      ]
     },
     "execution_count": 10,
     "metadata": {},
     "output_type": "execute_result"
    },
    {
     "data": {
      "image/png": "[encoded data removed]",
      "text/plain": [
       "<Figure size 432x288 with 1 Axes>"
      ]
     },
     "metadata": {
      "needs_background": "light"
     },
     "output_type": "display_data"
    }
   ],
   "source": [
    "# Histogram\n",
    "print(prec_bins)\n",
    "plt.hist(y.t1hr, bins=prec_bins)"
   ]
  },
  {
   "cell_type": "code",
   "execution_count": 22,
   "metadata": {},
   "outputs": [
    {
     "name": "stdout",
     "output_type": "stream",
     "text": [
      "0    19442\n",
      "1    13428\n",
      "2      860\n",
      "3      887\n",
      "4      447\n",
      "Name: ycat, dtype: int64\n",
      "4      447\n",
      "3     1334\n",
      "2     2194\n",
      "1    15622\n",
      "0    35064\n",
      "Name: ycat, dtype: int64\n"
     ]
    }
   ],
   "source": [
    "# Categorization\n",
    "y['ycat'] = np.digitize(y.t1hr, bins=prec_bins[1:-1])\n",
    "print(pd.Series(y.ycat).value_counts().sort_index())\n",
    "print(np.cumsum(np.flip(pd.Series(y.ycat).value_counts().sort_index())))"
   ]
  },
  {
   "cell_type": "code",
   "execution_count": 18,
   "metadata": {},
   "outputs": [
    {
     "name": "stdout",
     "output_type": "stream",
     "text": [
      "[3 4 2 2 2 2 1 1 2 5]\n"
     ]
    },
    {
     "data": {
      "text/plain": [
       "array([[1., 1., 1., 0., 0.],\n",
       "       [1., 1., 1., 1., 0.],\n",
       "       [1., 1., 0., 0., 0.],\n",
       "       [1., 1., 0., 0., 0.],\n",
       "       [1., 1., 0., 0., 0.],\n",
       "       [1., 1., 0., 0., 0.],\n",
       "       [1., 0., 0., 0., 0.],\n",
       "       [1., 0., 0., 0., 0.],\n",
       "       [1., 1., 0., 0., 0.],\n",
       "       [1., 1., 1., 1., 1.]], dtype=float32)"
      ]
     },
     "execution_count": 18,
     "metadata": {},
     "output_type": "execute_result"
    }
   ],
   "source": [
    "tmp = np.random.randint(1,6,10)\n",
    "print(tmp)\n",
    "to_onehot(tmp-1, nclasses=5)"
   ]
  },
  {
   "cell_type": "code",
   "execution_count": 23,
   "metadata": {},
   "outputs": [
    {
     "name": "stdout",
     "output_type": "stream",
     "text": [
      "35064.0\n",
      "15622.0\n",
      "2194.0\n",
      "1334.0\n",
      "447.0\n"
     ]
    }
   ],
   "source": [
    "yoh = to_onehot(y.ycat, nclasses=5)\n",
    "for i in range(5):\n",
    "    print(np.sum(yoh[:,i]))"
   ]
  },
  {
   "cell_type": "markdown",
   "metadata": {},
   "source": [
    "So far th results seems fine. We use `np.digitize()` to convert Y to categorical, while removing the boundary values in our bins.\n",
    "\n",
    "## Data Preparation"
   ]
  },
  {
   "cell_type": "code",
   "execution_count": 35,
   "metadata": {},
   "outputs": [
    {
     "name": "stdout",
     "output_type": "stream",
     "text": [
      "Reading input X from: ../dbz_2016070609/\n",
      "... read input size: (92, 2)\n",
      "Reading output Y from: ./data/1hrmax.csv\n",
      "... read output size: (35064, 2)\n",
      "Pairing X-Y and splitting training/testing data.\n",
      "... data size after merging: (92, 3)\n",
      "Dropping records with NA\n",
      "... data size after dropping-NAs: (92, 3)\n",
      "Append data category: 0 for 2 times with size (23, 4)\n",
      "Append data category: 1 for 1 times with size (50, 4)\n",
      "Append data category: 2 for 6 times with size (9, 4)\n",
      "Append data category: 3 for 7 times with size (7, 4)\n",
      "Append data category: 4 for 17 times with size (3, 4)\n",
      "(92, 4)\n",
      "(250, 4)\n",
      "0    23\n",
      "1    50\n",
      "2     9\n",
      "3     7\n",
      "4     3\n",
      "Name: prec_cat, dtype: int64\n",
      "0    46\n",
      "1    50\n",
      "2    54\n",
      "3    49\n",
      "4    51\n",
      "Name: prec_cat, dtype: int64\n"
     ]
    }
   ],
   "source": [
    "logging.basicConfig(level=logging.DEBUG)\n",
    "srcx = '../dbz_2016070609/'\n",
    "srcy = './data/1hrmax.csv'\n",
    "# Create IO table\n",
    "iotab = loadIOTab(srcx, srcy, dropna=True)\n",
    "# Create weighted sampling rom IOdata\n",
    "newiotab = generate_equal_samples(iotab, prec_bins=prec_bins, ylab='t1hr', shuffle=True)\n",
    "#\n",
    "print(iotab.shape)\n",
    "print(newiotab.shape)\n",
    "print(iotab['prec_cat'].value_counts().sort_index())\n",
    "print(newiotab['prec_cat'].value_counts().sort_index())"
   ]
  },
  {
   "cell_type": "code",
   "execution_count": 89,
   "metadata": {},
   "outputs": [
    {
     "name": "stdout",
     "output_type": "stream",
     "text": [
      "Model: \"model_28\"\n",
      "_________________________________________________________________\n",
      "Layer (type)                 Output Shape              Param #   \n",
      "=================================================================\n",
      "input_15 (InputLayer)        [(None, 6, 275, 162)]     0         \n",
      "_________________________________________________________________\n",
      "block1_conv1 (Conv2D)        (None, 32, 273, 160)      1760      \n",
      "_________________________________________________________________\n",
      "batch_normalization_10 (Batc (None, 32, 273, 160)      128       \n",
      "_________________________________________________________________\n",
      "block1_pool (MaxPooling2D)   (None, 32, 136, 80)       0         \n",
      "_________________________________________________________________\n",
      "dropout_45 (Dropout)         (None, 32, 136, 80)       0         \n",
      "_________________________________________________________________\n",
      "block2_conv1 (Conv2D)        (None, 64, 134, 78)       18496     \n",
      "_________________________________________________________________\n",
      "batch_normalization_11 (Batc (None, 64, 134, 78)       256       \n",
      "_________________________________________________________________\n",
      "block2_conv2 (Conv2D)        (None, 64, 132, 76)       36928     \n",
      "_________________________________________________________________\n",
      "batch_normalization_12 (Batc (None, 64, 132, 76)       256       \n",
      "_________________________________________________________________\n",
      "block2_pool (MaxPooling2D)   (None, 64, 66, 38)        0         \n",
      "_________________________________________________________________\n",
      "dropout_46 (Dropout)         (None, 64, 66, 38)        0         \n",
      "_________________________________________________________________\n",
      "block3_conv1 (Conv2D)        (None, 128, 64, 36)       73856     \n",
      "_________________________________________________________________\n",
      "batch_normalization_13 (Batc (None, 128, 64, 36)       512       \n",
      "_________________________________________________________________\n",
      "block3_conv2 (Conv2D)        (None, 128, 62, 34)       147584    \n",
      "_________________________________________________________________\n",
      "batch_normalization_14 (Batc (None, 128, 62, 34)       512       \n",
      "_________________________________________________________________\n",
      "block3_pool (MaxPooling2D)   (None, 128, 31, 17)       0         \n",
      "_________________________________________________________________\n",
      "dropout_47 (Dropout)         (None, 128, 31, 17)       0         \n",
      "_________________________________________________________________\n",
      "flatten_14 (Flatten)         (None, 67456)             0         \n",
      "_________________________________________________________________\n",
      "fc1 (Dense)                  (None, 256)               17268992  \n",
      "_________________________________________________________________\n",
      "batch_normalization_15 (Batc (None, 256)               1024      \n",
      "_________________________________________________________________\n",
      "dropout_48 (Dropout)         (None, 256)               0         \n",
      "_________________________________________________________________\n",
      "fc2 (Dense)                  (None, 16)                4112      \n",
      "_________________________________________________________________\n",
      "main_output (Dense)          (None, 5)                 85        \n",
      "=================================================================\n",
      "Total params: 17,554,501\n",
      "Trainable params: 17,553,157\n",
      "Non-trainable params: 1,344\n",
      "_________________________________________________________________\n",
      "       loss  accuracy\n",
      "0  0.386871    0.8200\n",
      "1  0.136955    0.9520\n",
      "2  0.091869    0.9656\n",
      "3  0.068790    0.9768\n",
      "4  0.041693    0.9848\n",
      "5  0.025015    0.9928\n",
      "6  0.060166    0.9784\n",
      "7  0.057768    0.9792\n",
      "8  0.044836    0.9888\n",
      "9  0.015737    0.9960\n"
     ]
    }
   ],
   "source": [
    "model = init_model_mlc((nLayer, nY, nX))\n",
    "model[0].summary()\n",
    "steps_train = np.ceil(newiotab.shape[0]/16)\n",
    "\n",
    "hist = model[0].fit_generator(data_generator_mlc(newiotab, 16, ylab='prec_cat'), steps_per_epoch=steps_train, epochs=10, max_queue_size=16, verbose=0)\n",
    "\n",
    "print(pd.DataFrame(hist.history))"
   ]
  },
  {
   "cell_type": "code",
   "execution_count": 90,
   "metadata": {},
   "outputs": [
    {
     "name": "stdout",
     "output_type": "stream",
     "text": [
      "6/6 [==============================] - 1s 86ms/step\n",
      "[[ 0.  0.  0.  0.  0.]\n",
      " [ 0.  0.  0.  0.  0.]\n",
      " [ 0.  0.  0.  0.  0.]\n",
      " [ 0.  0.  0.  0.  0.]\n",
      " [ 0.  0.  0.  0.  0.]\n",
      " [ 0.  0.  0.  0.  0.]\n",
      " [ 0.  0.  0.  0.  0.]\n",
      " [ 0.  0.  0.  0.  0.]\n",
      " [ 0.  0.  0.  0.  0.]\n",
      " [ 0.  0.  0.  0.  0.]\n",
      " [ 0.  0.  0.  0.  0.]\n",
      " [ 0.  0.  0.  0.  0.]\n",
      " [ 0.  1.  0.  0.  0.]\n",
      " [ 0.  0.  0.  0.  0.]\n",
      " [ 0.  0.  0.  0.  0.]\n",
      " [ 0.  0.  0.  0.  0.]\n",
      " [ 0.  0.  0.  0.  0.]\n",
      " [ 0.  0.  0.  0.  0.]\n",
      " [ 0.  0.  0.  0.  0.]\n",
      " [ 0.  1.  0.  0.  0.]\n",
      " [ 0.  0.  0.  0.  0.]\n",
      " [ 0.  0.  0.  0.  0.]\n",
      " [ 0.  0.  0.  0.  0.]\n",
      " [ 0.  0.  0.  0.  0.]\n",
      " [ 0.  0.  0.  0.  0.]\n",
      " [ 0.  0.  0.  0.  0.]\n",
      " [ 0.  0.  0.  0.  0.]\n",
      " [ 0.  0.  0.  0.  0.]\n",
      " [ 0.  0.  0.  0.  0.]\n",
      " [ 0.  0.  0.  0.  0.]\n",
      " [ 0.  1.  0.  0.  0.]\n",
      " [ 0.  0.  0.  0.  0.]\n",
      " [ 0.  0.  0.  0.  0.]\n",
      " [ 0.  0.  0.  0.  0.]\n",
      " [ 0.  0.  0.  0.  0.]\n",
      " [ 0.  0.  0.  0.  0.]\n",
      " [ 0.  0.  0.  0.  0.]\n",
      " [ 0.  0.  0.  0.  0.]\n",
      " [ 0.  0.  0.  0.  0.]\n",
      " [ 0.  0.  0.  0.  0.]\n",
      " [ 0.  0.  0.  0.  0.]\n",
      " [ 0.  0.  0.  0.  0.]\n",
      " [ 0.  0.  0.  0.  0.]\n",
      " [ 0.  0.  0.  0.  0.]\n",
      " [ 0.  0.  0.  0.  0.]\n",
      " [ 0.  0.  0.  0.  0.]\n",
      " [ 0.  0.  0.  0.  0.]\n",
      " [ 0.  0.  0.  0.  0.]\n",
      " [ 0.  0.  0.  0.  0.]\n",
      " [ 0.  0.  0.  0.  0.]\n",
      " [ 0.  0.  0.  0.  0.]\n",
      " [ 0.  0. -1.  0.  0.]\n",
      " [ 0.  0. -1.  0.  0.]\n",
      " [ 0.  0.  0.  0.  0.]\n",
      " [ 0.  0.  0.  0.  0.]\n",
      " [ 0.  0.  0.  0.  0.]\n",
      " [ 0.  0.  0.  0.  0.]\n",
      " [ 0.  0.  0.  0.  0.]\n",
      " [ 0.  0.  0.  0.  0.]\n",
      " [ 0.  0.  0.  0.  0.]\n",
      " [ 0.  0.  0.  0.  0.]\n",
      " [ 0.  0.  0.  0.  0.]\n",
      " [ 0.  0.  0.  0.  0.]\n",
      " [ 0.  0.  0.  0.  0.]\n",
      " [ 0.  0.  0.  0.  0.]\n",
      " [ 0.  0.  0.  0.  0.]\n",
      " [ 0.  0.  0.  0.  0.]\n",
      " [ 0.  0.  0.  0.  0.]\n",
      " [ 0.  0.  0.  0.  0.]\n",
      " [ 0.  0.  0.  0.  0.]\n",
      " [ 0.  0.  0.  0.  0.]\n",
      " [ 0.  0.  0.  0.  0.]\n",
      " [ 0.  0.  0.  0.  0.]\n",
      " [ 0.  0.  0.  0.  0.]\n",
      " [ 0.  0.  0.  0.  0.]\n",
      " [ 0.  0.  0.  0.  0.]\n",
      " [ 0.  0.  0.  0.  0.]\n",
      " [ 0.  1.  0.  0.  0.]\n",
      " [ 0.  0.  0.  0.  0.]\n",
      " [ 0.  0.  0.  0.  0.]\n",
      " [ 0.  0.  0.  0.  0.]\n",
      " [ 0.  0.  0.  0.  0.]\n",
      " [ 0.  0.  0.  0.  0.]\n",
      " [ 0.  0.  0.  0.  0.]\n",
      " [ 0.  0.  0.  0.  0.]\n",
      " [ 0.  0.  0.  0.  0.]\n",
      " [ 0.  0.  0.  0.  0.]\n",
      " [ 0.  0.  0.  0.  0.]\n",
      " [ 0.  0.  0.  0.  0.]\n",
      " [ 0.  0.  0.  0.  0.]\n",
      " [ 0.  0.  0.  0.  0.]\n",
      " [ 0.  0.  0.  0.  0.]]\n"
     ]
    }
   ],
   "source": [
    "# Test\n",
    "steps_test = np.ceil(iotab.shape[0]/16)\n",
    "y_pred = model[0].predict_generator(data_generator_mlc(iotab, 16, ylab='prec_cat'), steps=steps_test, verbose=1)\n",
    "yp = ((y_pred>0.5)*1.0)\n",
    "print(yp - to_onehot(iotab.prec_cat))"
   ]
  },
  {
   "cell_type": "markdown",
   "metadata": {},
   "source": [
    "## Test Model Output\n",
    "\n",
    "We stored another model contains the first N-1 layers of the complete model. Let's check if the partial model is trained:"
   ]
  },
  {
   "cell_type": "code",
   "execution_count": 91,
   "metadata": {},
   "outputs": [
    {
     "name": "stdout",
     "output_type": "stream",
     "text": [
      "The output of the (n-1)th layer of the complete model:\n",
      "[ 0.19173884 -0.09820265  0.0383967  -0.14314505 -0.11193918 -0.00382341\n",
      " -0.13451558 -0.04491406  0.02882116 -0.018591    0.13941702  0.12168088\n",
      " -0.07752114  0.09162995 -0.02970859  0.17614457]\n",
      "The output of the partial model:\n",
      "[ 0.19173884 -0.09820265  0.0383967  -0.14314505 -0.11193918 -0.00382341\n",
      " -0.13451558 -0.04491406  0.02882116 -0.018591    0.13941702  0.12168088\n",
      " -0.07752114  0.09162995 -0.02970859  0.17614457]\n"
     ]
    }
   ],
   "source": [
    "print('The output of the (n-1)th layer of the complete model:')\n",
    "print(model[0].layers[-2].get_weights()[1])\n",
    "print('The output of the partial model:')\n",
    "print(model[1].layers[-1].get_weights()[1])"
   ]
  },
  {
   "cell_type": "code",
   "execution_count": null,
   "metadata": {},
   "outputs": [],
   "source": []
  }
 ],
 "metadata": {
  "kernelspec": {
   "display_name": "Python 3",
   "language": "python",
   "name": "python3"
  },
  "language_info": {
   "codemirror_mode": {
    "name": "ipython",
    "version": 3
   },
   "file_extension": ".py",
   "mimetype": "text/x-python",
   "name": "python",
   "nbconvert_exporter": "python",
   "pygments_lexer": "ipython3",
   "version": "3.7.4"
  }
 },
 "nbformat": 4,
 "nbformat_minor": 2
}
