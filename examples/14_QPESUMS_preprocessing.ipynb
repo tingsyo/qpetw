{
 "cells": [
  {
   "cell_type": "markdown",
   "metadata": {},
   "source": [
    "# Preprocess the QPESUMS Data\n",
    "\n",
    "The QPESUMS data were delivered in plain text format with names of `COMPREF.20160101.0010.txt` every 10 minutes. Here we want to aggregate hourly QPESUMS data for estimate the precipitation of the next hour, and hence some preprocessing utilities are required.\n",
    "\n",
    "This notebook contains such functions along with testing scripts."
   ]
  },
  {
   "cell_type": "code",
   "execution_count": 1,
   "metadata": {},
   "outputs": [],
   "source": [
    "def search_qpesums_text(srcdir, prefix='COMPREF.', ext='.txt'):\n",
    "    '''Search the specified the directory for QPESUMS data in text format and retrieve related information.\n",
    "         example file name: COMPREF.20160101.0010.txt\n",
    "    '''\n",
    "    import os\n",
    "    import pandas as pd\n",
    "    fileinfo = []\n",
    "    # Walk through the specified directory\n",
    "    for root, dirs, files in os.walk(srcdir, followlinks=True):\n",
    "        for f in files:\n",
    "            if f.startswith(prefix) and f.endswith(ext):\n",
    "                # Parse file name for time information\n",
    "                furi = os.path.join(root, f)\n",
    "                timestr = f.replace(prefix,'').replace(ext,'')\n",
    "                # Append data\n",
    "                fileinfo.append({'furi':furi, 'timestamp':timestr})\n",
    "    # Return the results as a DataFrame\n",
    "    results = pd.DataFrame(fileinfo).sort_values('timestamp').reset_index(drop=True)\n",
    "    return(results)\n",
    "\n",
    "def parse_time_string(tstr, fmt='%Y%m%d.%H%M'):\n",
    "    '''Parse a time string into a datetime object. The given format was YYYYMMDD.HHMM.\n",
    "       This function is separated in case the format of time-string might change over time.\n",
    "    '''\n",
    "    import datetime\n",
    "    tobj = datetime.datetime.strptime(tstr, fmt)\n",
    "    return(tobj)\n"
   ]
  },
  {
   "cell_type": "code",
   "execution_count": 2,
   "metadata": {},
   "outputs": [
    {
     "name": "stdout",
     "output_type": "stream",
     "text": [
      "Total files found: 51466\n"
     ]
    },
    {
     "data": {
      "text/html": [
       "<div>\n",
       "<style scoped>\n",
       "    .dataframe tbody tr th:only-of-type {\n",
       "        vertical-align: middle;\n",
       "    }\n",
       "\n",
       "    .dataframe tbody tr th {\n",
       "        vertical-align: top;\n",
       "    }\n",
       "\n",
       "    .dataframe thead th {\n",
       "        text-align: right;\n",
       "    }\n",
       "</style>\n",
       "<table border=\"1\" class=\"dataframe\">\n",
       "  <thead>\n",
       "    <tr style=\"text-align: right;\">\n",
       "      <th></th>\n",
       "      <th>furi</th>\n",
       "      <th>timestamp</th>\n",
       "    </tr>\n",
       "  </thead>\n",
       "  <tbody>\n",
       "    <tr>\n",
       "      <th>0</th>\n",
       "      <td>D:\\data\\qpedata\\dbz\\20160101\\COMPREF.20160101....</td>\n",
       "      <td>20160101.0010</td>\n",
       "    </tr>\n",
       "    <tr>\n",
       "      <th>1</th>\n",
       "      <td>D:\\data\\qpedata\\dbz\\20160101\\COMPREF.20160101....</td>\n",
       "      <td>20160101.0020</td>\n",
       "    </tr>\n",
       "    <tr>\n",
       "      <th>2</th>\n",
       "      <td>D:\\data\\qpedata\\dbz\\20160101\\COMPREF.20160101....</td>\n",
       "      <td>20160101.0030</td>\n",
       "    </tr>\n",
       "    <tr>\n",
       "      <th>3</th>\n",
       "      <td>D:\\data\\qpedata\\dbz\\20160101\\COMPREF.20160101....</td>\n",
       "      <td>20160101.0040</td>\n",
       "    </tr>\n",
       "    <tr>\n",
       "      <th>4</th>\n",
       "      <td>D:\\data\\qpedata\\dbz\\20160101\\COMPREF.20160101....</td>\n",
       "      <td>20160101.0050</td>\n",
       "    </tr>\n",
       "    <tr>\n",
       "      <th>5</th>\n",
       "      <td>D:\\data\\qpedata\\dbz\\20160101\\COMPREF.20160101....</td>\n",
       "      <td>20160101.0100</td>\n",
       "    </tr>\n",
       "    <tr>\n",
       "      <th>6</th>\n",
       "      <td>D:\\data\\qpedata\\dbz\\20160101\\COMPREF.20160101....</td>\n",
       "      <td>20160101.0120</td>\n",
       "    </tr>\n",
       "    <tr>\n",
       "      <th>7</th>\n",
       "      <td>D:\\data\\qpedata\\dbz\\20160101\\COMPREF.20160101....</td>\n",
       "      <td>20160101.0140</td>\n",
       "    </tr>\n",
       "    <tr>\n",
       "      <th>8</th>\n",
       "      <td>D:\\data\\qpedata\\dbz\\20160101\\COMPREF.20160101....</td>\n",
       "      <td>20160101.0150</td>\n",
       "    </tr>\n",
       "    <tr>\n",
       "      <th>9</th>\n",
       "      <td>D:\\data\\qpedata\\dbz\\20160101\\COMPREF.20160101....</td>\n",
       "      <td>20160101.0200</td>\n",
       "    </tr>\n",
       "  </tbody>\n",
       "</table>\n",
       "</div>"
      ],
      "text/plain": [
       "                                                furi      timestamp\n",
       "0  D:\\data\\qpedata\\dbz\\20160101\\COMPREF.20160101....  20160101.0010\n",
       "1  D:\\data\\qpedata\\dbz\\20160101\\COMPREF.20160101....  20160101.0020\n",
       "2  D:\\data\\qpedata\\dbz\\20160101\\COMPREF.20160101....  20160101.0030\n",
       "3  D:\\data\\qpedata\\dbz\\20160101\\COMPREF.20160101....  20160101.0040\n",
       "4  D:\\data\\qpedata\\dbz\\20160101\\COMPREF.20160101....  20160101.0050\n",
       "5  D:\\data\\qpedata\\dbz\\20160101\\COMPREF.20160101....  20160101.0100\n",
       "6  D:\\data\\qpedata\\dbz\\20160101\\COMPREF.20160101....  20160101.0120\n",
       "7  D:\\data\\qpedata\\dbz\\20160101\\COMPREF.20160101....  20160101.0140\n",
       "8  D:\\data\\qpedata\\dbz\\20160101\\COMPREF.20160101....  20160101.0150\n",
       "9  D:\\data\\qpedata\\dbz\\20160101\\COMPREF.20160101....  20160101.0200"
      ]
     },
     "execution_count": 2,
     "metadata": {},
     "output_type": "execute_result"
    }
   ],
   "source": [
    "# Test the file scaning function\n",
    "srcdir = 'D:\\data\\qpedata\\dbz'\n",
    "finfo = search_qpesums_text(srcdir)\n",
    "print('Total files found: '+str(finfo.shape[0]))\n",
    "finfo.head(10)"
   ]
  },
  {
   "cell_type": "code",
   "execution_count": 3,
   "metadata": {},
   "outputs": [
    {
     "data": {
      "text/plain": [
       "datetime.datetime(2016, 1, 1, 17, 10)"
      ]
     },
     "execution_count": 3,
     "metadata": {},
     "output_type": "execute_result"
    }
   ],
   "source": [
    "# Test timestamp parsing\n",
    "parse_time_string(finfo.timestamp.iloc[100])"
   ]
  },
  {
   "cell_type": "markdown",
   "metadata": {},
   "source": [
    "## Test QPSUMS reading function\n",
    "\n",
    "The QPESUMS data was delivered in *fixed-width-format* , and can be read in with:\n",
    "\n",
    "`pd.read_fwf(furi, widths=[8,8,8], header=None)`\n",
    "\n"
   ]
  },
  {
   "cell_type": "code",
   "execution_count": 20,
   "metadata": {},
   "outputs": [
    {
     "name": "stdout",
     "output_type": "stream",
     "text": [
      "(275, 162)\n"
     ]
    },
    {
     "data": {
      "image/png": "[encoded data removed]",
      "text/plain": [
       "<Figure size 432x288 with 2 Axes>"
      ]
     },
     "metadata": {
      "needs_background": "light"
     },
     "output_type": "display_data"
    }
   ],
   "source": [
    "def read_qpesums_text(furi):\n",
    "    import pandas as pd\n",
    "    import numpy as np\n",
    "    results = None\n",
    "    try:\n",
    "        tmp = pd.read_fwf(furi, widths=[8,8,8], header=None)\n",
    "        results = np.float32(np.array(tmp.iloc[:,2])).reshape((275,162))\n",
    "    except pd.errors.EmptyDataError:\n",
    "        logging.error(furi + \" is empty.\")\n",
    "    return(results)\n",
    "\n",
    "tmp = read_qpesums_text(finfo.furi.iloc[1001])\n",
    "print(tmp.shape)\n",
    "\n",
    "%matplotlib inline\n",
    "import matplotlib.pyplot as plt\n",
    "\n",
    "plt.imshow(tmp)\n",
    "plt.colorbar()\n",
    "plt.show()"
   ]
  },
  {
   "cell_type": "markdown",
   "metadata": {},
   "source": [
    "## Test grouping algorithm:\n",
    "\n",
    "### pseudo code\n",
    "\n",
    "Basically we want to loop through available time by hour, group data and then output.\n",
    "\n",
    "```\n",
    "data_info = search_qpesums_text(DATA_DIR)\n",
    "\n",
    "start_time = the earliest time-stamp in data_info\n",
    "end_time = the last time-stamp in data_info\n",
    "\n",
    "current_time = start_time\n",
    "\n",
    "while current_time < end_time:\n",
    "    rec = aggregate_qpesums_data(current_time, data_info)\n",
    "    output(rec)\n",
    "    current_time += 10-min\n",
    "```\n",
    "\n",
    "And for `aggregate_qpesums_data()`, we want to:\n",
    "\n",
    "- check the availability of involved data\n",
    "- perform aggregation (y, x, t) if available\n",
    "- time-zone conversion if necessary\n"
   ]
  },
  {
   "cell_type": "code",
   "execution_count": 56,
   "metadata": {},
   "outputs": [
    {
     "name": "stdout",
     "output_type": "stream",
     "text": [
      "2016-01-01 00:10:00\n",
      "2016-01-01 11:00:00\n",
      "      timestamp  m-60  m-50  m-40  m-30  m-20  m-10  complete\n",
      "0   20160101.00     0     0     0     0     0     0     False\n",
      "1   20160101.01     0     1     1     1     1     1     False\n",
      "2   20160101.02     1     0     1     0     1     1     False\n",
      "3   20160101.03     1     1     1     1     1     1      True\n",
      "4   20160101.04     1     1     1     1     1     1      True\n",
      "5   20160101.05     1     1     1     1     1     1      True\n",
      "6   20160101.06     1     1     1     1     1     1      True\n",
      "7   20160101.07     1     1     1     1     1     1      True\n",
      "8   20160101.08     1     1     1     1     1     1      True\n",
      "9   20160101.09     1     1     1     1     1     1      True\n",
      "10  20160101.10     1     1     1     1     1     1      True\n",
      "20160101.03    (275, 162, 6)\n",
      "20160101.04    (275, 162, 6)\n",
      "20160101.05    (275, 162, 6)\n",
      "20160101.06    (275, 162, 6)\n",
      "20160101.07    (275, 162, 6)\n",
      "20160101.08    (275, 162, 6)\n",
      "20160101.09    (275, 162, 6)\n",
      "20160101.10    (275, 162, 6)\n"
     ]
    }
   ],
   "source": [
    "def aggregate_qpesums_data(current_time, data_info, time_shift=0):\n",
    "    ''' - check the availability of involved data\n",
    "        - perform aggregation (y, x, t) if available\n",
    "        - time-zone conversion if necessary\n",
    "    '''\n",
    "    from datetime import timedelta, date\n",
    "    import numpy as np\n",
    "    import pandas as pd\n",
    "    # Get the previous 6 time-stamps with 10-min interval\n",
    "    rec = {'timestamp': current_time.strftime(\"%Y%m%d.%H\")}\n",
    "    fcount = 0\n",
    "    tslist = []\n",
    "    for i in range(7,1,-1):\n",
    "        ts = (current_time-timedelta(minutes=(i*10))).strftime(\"%Y%m%d.%H%M\")\n",
    "        # Check availability of required time-stamps\n",
    "        rec['m-'+str((i-1)*10)] = (ts in data_info.timestamp.values)*1\n",
    "        fcount += rec['m-'+str((i-1)*10)]\n",
    "        tslist.append(ts)\n",
    "    # Check data completeness\n",
    "    rec['complete'] = (fcount==6)\n",
    "    qdata = None\n",
    "    if fcount==6:\n",
    "        #print('Aggregate data for '+current_time.strftime(\"%Y%m%d.%H\"))\n",
    "        qdata = []\n",
    "        for ts in tslist:\n",
    "            qdata.append(read_qpesums_text(data_info.loc[data_info.timestamp==ts, 'furi'].iloc[0]))\n",
    "        qdata =  np.stack(qdata, axis=2)\n",
    "    # Shift time if necessary\n",
    "    if time_shift !=0:\n",
    "        rec['timestamp'] = (current_time+timedelta(hours=time_shift)).strftime(\"%Y%m%d.%H\")\n",
    "    return((rec, qdata))\n",
    "\n",
    "# Testing\n",
    "# Loop through time-stamps\n",
    "tmp = finfo.iloc[:64,:]\n",
    "\n",
    "starttime = parse_time_string(tmp.timestamp.iloc[0])\n",
    "endtime = parse_time_string(tmp.timestamp.iloc[-1])\n",
    "\n",
    "print(starttime)\n",
    "print(endtime)\n",
    "\n",
    "from datetime import timedelta, date\n",
    "\n",
    "dcheck = []\n",
    "qnpy = {}\n",
    "ctime = starttime\n",
    "while ctime <= endtime:\n",
    "    tmp, data = aggregate_qpesums_data(ctime, finfo, time_shift=0)\n",
    "    dcheck.append(tmp)\n",
    "    if not data is None:\n",
    "        qnpy[tmp['timestamp']] = np.array(data)\n",
    "    ctime += timedelta(hours=1)\n",
    "\n",
    "import pandas as pd\n",
    "dcheck = pd.DataFrame(dcheck)\n",
    "print(dcheck)\n",
    "\n",
    "for k,v in qnpy.items():\n",
    "    print(k + '    ' + str(v.shape))"
   ]
  },
  {
   "cell_type": "code",
   "execution_count": 57,
   "metadata": {},
   "outputs": [
    {
     "name": "stdout",
     "output_type": "stream",
     "text": [
      "      timestamp  m-60  m-50  m-40  m-30  m-20  m-10  complete\n",
      "0   20160101.08     0     0     0     0     0     0     False\n",
      "1   20160101.09     0     1     1     1     1     1     False\n",
      "2   20160101.10     1     0     1     0     1     1     False\n",
      "3   20160101.11     1     1     1     1     1     1      True\n",
      "4   20160101.12     1     1     1     1     1     1      True\n",
      "5   20160101.13     1     1     1     1     1     1      True\n",
      "6   20160101.14     1     1     1     1     1     1      True\n",
      "7   20160101.15     1     1     1     1     1     1      True\n",
      "8   20160101.16     1     1     1     1     1     1      True\n",
      "9   20160101.17     1     1     1     1     1     1      True\n",
      "10  20160101.18     1     1     1     1     1     1      True\n",
      "20160101.11    (275, 162, 6)\n",
      "20160101.12    (275, 162, 6)\n",
      "20160101.13    (275, 162, 6)\n",
      "20160101.14    (275, 162, 6)\n",
      "20160101.15    (275, 162, 6)\n",
      "20160101.16    (275, 162, 6)\n",
      "20160101.17    (275, 162, 6)\n",
      "20160101.18    (275, 162, 6)\n"
     ]
    }
   ],
   "source": [
    "# Try time_shift\n",
    "dcheck = []\n",
    "qnpy = {}\n",
    "ctime = starttime\n",
    "while ctime <= endtime:\n",
    "    tmp, data = aggregate_qpesums_data(ctime, finfo, time_shift=8)\n",
    "    dcheck.append(tmp)\n",
    "    if not data is None:\n",
    "        qnpy[tmp['timestamp']] = np.array(data)\n",
    "    ctime += timedelta(hours=1)\n",
    "\n",
    "import pandas as pd\n",
    "dcheck = pd.DataFrame(dcheck)\n",
    "print(dcheck)\n",
    "\n",
    "for k,v in qnpy.items():\n",
    "    print(k + '    ' + str(v.shape))"
   ]
  },
  {
   "cell_type": "code",
   "execution_count": null,
   "metadata": {},
   "outputs": [],
   "source": []
  }
 ],
 "metadata": {
  "kernelspec": {
   "display_name": "Python 3",
   "language": "python",
   "name": "python3"
  },
  "language_info": {
   "codemirror_mode": {
    "name": "ipython",
    "version": 3
   },
   "file_extension": ".py",
   "mimetype": "text/x-python",
   "name": "python",
   "nbconvert_exporter": "python",
   "pygments_lexer": "ipython3",
   "version": "3.7.4"
  }
 },
 "nbformat": 4,
 "nbformat_minor": 2
}
